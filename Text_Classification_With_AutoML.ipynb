{
  "nbformat": 4,
  "nbformat_minor": 0,
  "metadata": {
    "accelerator": "GPU",
    "colab": {
      "name": "Text Classification With AutoML.ipynb",
      "provenance": [],
      "authorship_tag": "ABX9TyPqPLOLk2NAmLTX7VBXJEd4",
      "include_colab_link": true
    },
    "kernelspec": {
      "display_name": "Python 3",
      "name": "python3"
    },
    "language_info": {
      "name": "python"
    }
  },
  "cells": [
    {
      "cell_type": "markdown",
      "metadata": {
        "id": "view-in-github",
        "colab_type": "text"
      },
      "source": [
        "<a href=\"https://colab.research.google.com/github/SubramanyaMaiya/MulticlasssTextClassificationUsingAutoMl/blob/main/Text_Classification_With_AutoML.ipynb\" target=\"_parent\"><img src=\"https://colab.research.google.com/assets/colab-badge.svg\" alt=\"Open In Colab\"/></a>"
      ]
    },
    {
      "cell_type": "code",
      "metadata": {
        "colab": {
          "base_uri": "https://localhost:8080/"
        },
        "id": "434t2aQWtlse",
        "outputId": "5410a1cd-259a-4a32-f828-fe2420c7dd76"
      },
      "source": [
        "!pip install spacy"
      ],
      "execution_count": 1,
      "outputs": [
        {
          "output_type": "stream",
          "text": [
            "Requirement already satisfied: spacy in /usr/local/lib/python3.7/dist-packages (2.2.4)\n",
            "Requirement already satisfied: wasabi<1.1.0,>=0.4.0 in /usr/local/lib/python3.7/dist-packages (from spacy) (0.8.2)\n",
            "Requirement already satisfied: numpy>=1.15.0 in /usr/local/lib/python3.7/dist-packages (from spacy) (1.19.5)\n",
            "Requirement already satisfied: murmurhash<1.1.0,>=0.28.0 in /usr/local/lib/python3.7/dist-packages (from spacy) (1.0.5)\n",
            "Requirement already satisfied: srsly<1.1.0,>=1.0.2 in /usr/local/lib/python3.7/dist-packages (from spacy) (1.0.5)\n",
            "Requirement already satisfied: catalogue<1.1.0,>=0.0.7 in /usr/local/lib/python3.7/dist-packages (from spacy) (1.0.0)\n",
            "Requirement already satisfied: setuptools in /usr/local/lib/python3.7/dist-packages (from spacy) (57.0.0)\n",
            "Requirement already satisfied: plac<1.2.0,>=0.9.6 in /usr/local/lib/python3.7/dist-packages (from spacy) (1.1.3)\n",
            "Requirement already satisfied: thinc==7.4.0 in /usr/local/lib/python3.7/dist-packages (from spacy) (7.4.0)\n",
            "Requirement already satisfied: requests<3.0.0,>=2.13.0 in /usr/local/lib/python3.7/dist-packages (from spacy) (2.23.0)\n",
            "Requirement already satisfied: blis<0.5.0,>=0.4.0 in /usr/local/lib/python3.7/dist-packages (from spacy) (0.4.1)\n",
            "Requirement already satisfied: cymem<2.1.0,>=2.0.2 in /usr/local/lib/python3.7/dist-packages (from spacy) (2.0.5)\n",
            "Requirement already satisfied: tqdm<5.0.0,>=4.38.0 in /usr/local/lib/python3.7/dist-packages (from spacy) (4.41.1)\n",
            "Requirement already satisfied: preshed<3.1.0,>=3.0.2 in /usr/local/lib/python3.7/dist-packages (from spacy) (3.0.5)\n",
            "Requirement already satisfied: importlib-metadata>=0.20; python_version < \"3.8\" in /usr/local/lib/python3.7/dist-packages (from catalogue<1.1.0,>=0.0.7->spacy) (4.6.0)\n",
            "Requirement already satisfied: urllib3!=1.25.0,!=1.25.1,<1.26,>=1.21.1 in /usr/local/lib/python3.7/dist-packages (from requests<3.0.0,>=2.13.0->spacy) (1.24.3)\n",
            "Requirement already satisfied: idna<3,>=2.5 in /usr/local/lib/python3.7/dist-packages (from requests<3.0.0,>=2.13.0->spacy) (2.10)\n",
            "Requirement already satisfied: chardet<4,>=3.0.2 in /usr/local/lib/python3.7/dist-packages (from requests<3.0.0,>=2.13.0->spacy) (3.0.4)\n",
            "Requirement already satisfied: certifi>=2017.4.17 in /usr/local/lib/python3.7/dist-packages (from requests<3.0.0,>=2.13.0->spacy) (2021.5.30)\n",
            "Requirement already satisfied: zipp>=0.5 in /usr/local/lib/python3.7/dist-packages (from importlib-metadata>=0.20; python_version < \"3.8\"->catalogue<1.1.0,>=0.0.7->spacy) (3.4.1)\n",
            "Requirement already satisfied: typing-extensions>=3.6.4; python_version < \"3.8\" in /usr/local/lib/python3.7/dist-packages (from importlib-metadata>=0.20; python_version < \"3.8\"->catalogue<1.1.0,>=0.0.7->spacy) (3.7.4.3)\n"
          ],
          "name": "stdout"
        }
      ]
    },
    {
      "cell_type": "code",
      "metadata": {
        "colab": {
          "base_uri": "https://localhost:8080/"
        },
        "id": "iMCKgE48tn9O",
        "outputId": "ba76122c-1d23-4830-92ff-ecd82d8e91a2"
      },
      "source": [
        "!pip install gensim"
      ],
      "execution_count": 2,
      "outputs": [
        {
          "output_type": "stream",
          "text": [
            "Requirement already satisfied: gensim in /usr/local/lib/python3.7/dist-packages (3.6.0)\n",
            "Requirement already satisfied: numpy>=1.11.3 in /usr/local/lib/python3.7/dist-packages (from gensim) (1.19.5)\n",
            "Requirement already satisfied: scipy>=0.18.1 in /usr/local/lib/python3.7/dist-packages (from gensim) (1.4.1)\n",
            "Requirement already satisfied: six>=1.5.0 in /usr/local/lib/python3.7/dist-packages (from gensim) (1.15.0)\n",
            "Requirement already satisfied: smart-open>=1.2.1 in /usr/local/lib/python3.7/dist-packages (from gensim) (5.1.0)\n"
          ],
          "name": "stdout"
        }
      ]
    },
    {
      "cell_type": "code",
      "metadata": {
        "id": "UNUJ_dwptsBC"
      },
      "source": [
        "# import pandas as pd\n",
        "# import spacy\n",
        "# nlp = spacy.load(\"en_core_web_sm\")"
      ],
      "execution_count": 3,
      "outputs": []
    },
    {
      "cell_type": "code",
      "metadata": {
        "id": "feTqFlLCtXp0"
      },
      "source": [
        "import pandas as pd\n",
        "import numpy as np\n",
        "import nltk\n",
        "from wordcloud import WordCloud\n",
        "from nltk.stem import PorterStemmer\n",
        "\n",
        "import re\n",
        "from sklearn.model_selection import train_test_split\n",
        "\n",
        "from sklearn.feature_extraction.text import TfidfVectorizer\n",
        "from gensim.models import word2vec"
      ],
      "execution_count": 4,
      "outputs": []
    },
    {
      "cell_type": "code",
      "metadata": {
        "colab": {
          "base_uri": "https://localhost:8080/",
          "height": 632
        },
        "id": "lQS2lE9QtzUJ",
        "outputId": "8b6dc9da-3242-4892-94ef-3f86b4dbdecf"
      },
      "source": [
        "consumer_complaint = pd.read_csv('https://github.com/srivatsan88/YouTubeLI/blob/master/dataset/consumer_compliants.zip?raw=true',compression='zip',sep=',',quotechar='\"')\n",
        "consumer_complaint.head()"
      ],
      "execution_count": 5,
      "outputs": [
        {
          "output_type": "execute_result",
          "data": {
            "text/html": [
              "<div>\n",
              "<style scoped>\n",
              "    .dataframe tbody tr th:only-of-type {\n",
              "        vertical-align: middle;\n",
              "    }\n",
              "\n",
              "    .dataframe tbody tr th {\n",
              "        vertical-align: top;\n",
              "    }\n",
              "\n",
              "    .dataframe thead th {\n",
              "        text-align: right;\n",
              "    }\n",
              "</style>\n",
              "<table border=\"1\" class=\"dataframe\">\n",
              "  <thead>\n",
              "    <tr style=\"text-align: right;\">\n",
              "      <th></th>\n",
              "      <th>Date received</th>\n",
              "      <th>Product</th>\n",
              "      <th>Sub-product</th>\n",
              "      <th>Issue</th>\n",
              "      <th>Sub-issue</th>\n",
              "      <th>Consumer complaint narrative</th>\n",
              "      <th>Company public response</th>\n",
              "      <th>Company</th>\n",
              "      <th>State</th>\n",
              "      <th>ZIP code</th>\n",
              "      <th>Tags</th>\n",
              "      <th>Consumer consent provided?</th>\n",
              "      <th>Submitted via</th>\n",
              "      <th>Date sent to company</th>\n",
              "      <th>Company response to consumer</th>\n",
              "      <th>Timely response?</th>\n",
              "      <th>Consumer disputed?</th>\n",
              "      <th>Complaint ID</th>\n",
              "    </tr>\n",
              "  </thead>\n",
              "  <tbody>\n",
              "    <tr>\n",
              "      <th>0</th>\n",
              "      <td>4/3/2020</td>\n",
              "      <td>Vehicle loan or lease</td>\n",
              "      <td>Loan</td>\n",
              "      <td>Getting a loan or lease</td>\n",
              "      <td>Fraudulent loan</td>\n",
              "      <td>This auto loan was opened on XX/XX/2020 in XXX...</td>\n",
              "      <td>Company has responded to the consumer and the ...</td>\n",
              "      <td>TRUIST FINANCIAL CORPORATION</td>\n",
              "      <td>PA</td>\n",
              "      <td>None</td>\n",
              "      <td>None</td>\n",
              "      <td>Consent provided</td>\n",
              "      <td>Web</td>\n",
              "      <td>4/3/2020</td>\n",
              "      <td>Closed with explanation</td>\n",
              "      <td>Yes</td>\n",
              "      <td>NaN</td>\n",
              "      <td>3591341</td>\n",
              "    </tr>\n",
              "    <tr>\n",
              "      <th>1</th>\n",
              "      <td>3/12/2020</td>\n",
              "      <td>Debt collection</td>\n",
              "      <td>Payday loan debt</td>\n",
              "      <td>Attempts to collect debt not owed</td>\n",
              "      <td>Debt is not yours</td>\n",
              "      <td>In XXXX of 2019 I noticed a debt for {$620.00}...</td>\n",
              "      <td>None</td>\n",
              "      <td>CURO Intermediate Holdings</td>\n",
              "      <td>CO</td>\n",
              "      <td>806XX</td>\n",
              "      <td>None</td>\n",
              "      <td>Consent provided</td>\n",
              "      <td>Web</td>\n",
              "      <td>3/12/2020</td>\n",
              "      <td>Closed with explanation</td>\n",
              "      <td>Yes</td>\n",
              "      <td>NaN</td>\n",
              "      <td>3564184</td>\n",
              "    </tr>\n",
              "    <tr>\n",
              "      <th>2</th>\n",
              "      <td>2/6/2020</td>\n",
              "      <td>Vehicle loan or lease</td>\n",
              "      <td>Loan</td>\n",
              "      <td>Getting a loan or lease</td>\n",
              "      <td>Credit denial</td>\n",
              "      <td>As stated from Capital One, XXXX XX/XX/XXXX an...</td>\n",
              "      <td>None</td>\n",
              "      <td>CAPITAL ONE FINANCIAL CORPORATION</td>\n",
              "      <td>OH</td>\n",
              "      <td>430XX</td>\n",
              "      <td>None</td>\n",
              "      <td>Consent provided</td>\n",
              "      <td>Web</td>\n",
              "      <td>2/6/2020</td>\n",
              "      <td>Closed with explanation</td>\n",
              "      <td>Yes</td>\n",
              "      <td>NaN</td>\n",
              "      <td>3521949</td>\n",
              "    </tr>\n",
              "    <tr>\n",
              "      <th>3</th>\n",
              "      <td>3/6/2020</td>\n",
              "      <td>Checking or savings account</td>\n",
              "      <td>Savings account</td>\n",
              "      <td>Managing an account</td>\n",
              "      <td>Banking errors</td>\n",
              "      <td>Please see CFPB case XXXX. \\n\\nCapital One, in...</td>\n",
              "      <td>None</td>\n",
              "      <td>CAPITAL ONE FINANCIAL CORPORATION</td>\n",
              "      <td>CA</td>\n",
              "      <td>None</td>\n",
              "      <td>None</td>\n",
              "      <td>Consent provided</td>\n",
              "      <td>Web</td>\n",
              "      <td>3/6/2020</td>\n",
              "      <td>Closed with explanation</td>\n",
              "      <td>Yes</td>\n",
              "      <td>NaN</td>\n",
              "      <td>3556237</td>\n",
              "    </tr>\n",
              "    <tr>\n",
              "      <th>4</th>\n",
              "      <td>2/14/2020</td>\n",
              "      <td>Debt collection</td>\n",
              "      <td>Medical debt</td>\n",
              "      <td>Attempts to collect debt not owed</td>\n",
              "      <td>Debt is not yours</td>\n",
              "      <td>This debt was incurred due to medical malpract...</td>\n",
              "      <td>Company believes it acted appropriately as aut...</td>\n",
              "      <td>Merchants and Professional Bureau, Inc.</td>\n",
              "      <td>OH</td>\n",
              "      <td>432XX</td>\n",
              "      <td>None</td>\n",
              "      <td>Consent provided</td>\n",
              "      <td>Web</td>\n",
              "      <td>2/14/2020</td>\n",
              "      <td>Closed with explanation</td>\n",
              "      <td>Yes</td>\n",
              "      <td>NaN</td>\n",
              "      <td>3531704</td>\n",
              "    </tr>\n",
              "  </tbody>\n",
              "</table>\n",
              "</div>"
            ],
            "text/plain": [
              "  Date received                      Product  ... Consumer disputed? Complaint ID\n",
              "0      4/3/2020        Vehicle loan or lease  ...                NaN      3591341\n",
              "1     3/12/2020              Debt collection  ...                NaN      3564184\n",
              "2      2/6/2020        Vehicle loan or lease  ...                NaN      3521949\n",
              "3      3/6/2020  Checking or savings account  ...                NaN      3556237\n",
              "4     2/14/2020              Debt collection  ...                NaN      3531704\n",
              "\n",
              "[5 rows x 18 columns]"
            ]
          },
          "metadata": {
            "tags": []
          },
          "execution_count": 5
        }
      ]
    },
    {
      "cell_type": "code",
      "metadata": {
        "colab": {
          "base_uri": "https://localhost:8080/",
          "height": 204
        },
        "id": "9ar9qGCwuTWU",
        "outputId": "68801faf-dc14-442a-a0c6-6dc90ab408f5"
      },
      "source": [
        "consumer_complaint = consumer_complaint[['Product', 'Consumer complaint narrative', 'Company']]\n",
        "consumer_complaint.head()"
      ],
      "execution_count": 6,
      "outputs": [
        {
          "output_type": "execute_result",
          "data": {
            "text/html": [
              "<div>\n",
              "<style scoped>\n",
              "    .dataframe tbody tr th:only-of-type {\n",
              "        vertical-align: middle;\n",
              "    }\n",
              "\n",
              "    .dataframe tbody tr th {\n",
              "        vertical-align: top;\n",
              "    }\n",
              "\n",
              "    .dataframe thead th {\n",
              "        text-align: right;\n",
              "    }\n",
              "</style>\n",
              "<table border=\"1\" class=\"dataframe\">\n",
              "  <thead>\n",
              "    <tr style=\"text-align: right;\">\n",
              "      <th></th>\n",
              "      <th>Product</th>\n",
              "      <th>Consumer complaint narrative</th>\n",
              "      <th>Company</th>\n",
              "    </tr>\n",
              "  </thead>\n",
              "  <tbody>\n",
              "    <tr>\n",
              "      <th>0</th>\n",
              "      <td>Vehicle loan or lease</td>\n",
              "      <td>This auto loan was opened on XX/XX/2020 in XXX...</td>\n",
              "      <td>TRUIST FINANCIAL CORPORATION</td>\n",
              "    </tr>\n",
              "    <tr>\n",
              "      <th>1</th>\n",
              "      <td>Debt collection</td>\n",
              "      <td>In XXXX of 2019 I noticed a debt for {$620.00}...</td>\n",
              "      <td>CURO Intermediate Holdings</td>\n",
              "    </tr>\n",
              "    <tr>\n",
              "      <th>2</th>\n",
              "      <td>Vehicle loan or lease</td>\n",
              "      <td>As stated from Capital One, XXXX XX/XX/XXXX an...</td>\n",
              "      <td>CAPITAL ONE FINANCIAL CORPORATION</td>\n",
              "    </tr>\n",
              "    <tr>\n",
              "      <th>3</th>\n",
              "      <td>Checking or savings account</td>\n",
              "      <td>Please see CFPB case XXXX. \\n\\nCapital One, in...</td>\n",
              "      <td>CAPITAL ONE FINANCIAL CORPORATION</td>\n",
              "    </tr>\n",
              "    <tr>\n",
              "      <th>4</th>\n",
              "      <td>Debt collection</td>\n",
              "      <td>This debt was incurred due to medical malpract...</td>\n",
              "      <td>Merchants and Professional Bureau, Inc.</td>\n",
              "    </tr>\n",
              "  </tbody>\n",
              "</table>\n",
              "</div>"
            ],
            "text/plain": [
              "                       Product  ...                                  Company\n",
              "0        Vehicle loan or lease  ...             TRUIST FINANCIAL CORPORATION\n",
              "1              Debt collection  ...               CURO Intermediate Holdings\n",
              "2        Vehicle loan or lease  ...        CAPITAL ONE FINANCIAL CORPORATION\n",
              "3  Checking or savings account  ...        CAPITAL ONE FINANCIAL CORPORATION\n",
              "4              Debt collection  ...  Merchants and Professional Bureau, Inc.\n",
              "\n",
              "[5 rows x 3 columns]"
            ]
          },
          "metadata": {
            "tags": []
          },
          "execution_count": 6
        }
      ]
    },
    {
      "cell_type": "code",
      "metadata": {
        "colab": {
          "base_uri": "https://localhost:8080/"
        },
        "id": "WBzcKuQMur0w",
        "outputId": "d259e822-128a-41a9-b485-f2ceb0680dd1"
      },
      "source": [
        "df = consumer_complaint.copy()\n",
        "df['Product'].value_counts()"
      ],
      "execution_count": 7,
      "outputs": [
        {
          "output_type": "execute_result",
          "data": {
            "text/plain": [
              "Debt collection                21772\n",
              "Credit card or prepaid card    13193\n",
              "Mortgage                        9799\n",
              "Checking or savings account     7003\n",
              "Student loan                    2950\n",
              "Vehicle loan or lease           2736\n",
              "Name: Product, dtype: int64"
            ]
          },
          "metadata": {
            "tags": []
          },
          "execution_count": 7
        }
      ]
    },
    {
      "cell_type": "code",
      "metadata": {
        "id": "Ge-zUXO3ut6p"
      },
      "source": [
        "import matplotlib.pyplot as plt\n",
        "import seaborn as sns"
      ],
      "execution_count": 8,
      "outputs": []
    },
    {
      "cell_type": "code",
      "metadata": {
        "colab": {
          "base_uri": "https://localhost:8080/",
          "height": 622
        },
        "id": "gVbpjQfRuw7U",
        "outputId": "ba541f67-b9d2-4cb4-ba83-4fa7411fe61b"
      },
      "source": [
        "plt.figure(figsize=(12,9))\n",
        "sns.countplot(df['Product'])"
      ],
      "execution_count": 9,
      "outputs": [
        {
          "output_type": "stream",
          "text": [
            "/usr/local/lib/python3.7/dist-packages/seaborn/_decorators.py:43: FutureWarning: Pass the following variable as a keyword arg: x. From version 0.12, the only valid positional argument will be `data`, and passing other arguments without an explicit keyword will result in an error or misinterpretation.\n",
            "  FutureWarning\n"
          ],
          "name": "stderr"
        },
        {
          "output_type": "execute_result",
          "data": {
            "text/plain": [
              "<matplotlib.axes._subplots.AxesSubplot at 0x7f7b5be488d0>"
            ]
          },
          "metadata": {
            "tags": []
          },
          "execution_count": 9
        },
        {
          "output_type": "display_data",
          "data": {
            "image/png": "[encoded data removed]",
            "text/plain": [
              "<Figure size 864x648 with 1 Axes>"
            ]
          },
          "metadata": {
            "tags": [],
            "needs_background": "light"
          }
        }
      ]
    },
    {
      "cell_type": "code",
      "metadata": {
        "id": "dZUulaFWuyx9"
      },
      "source": [
        "## Data is highly imbalanced."
      ],
      "execution_count": 10,
      "outputs": []
    },
    {
      "cell_type": "code",
      "metadata": {
        "colab": {
          "base_uri": "https://localhost:8080/",
          "height": 419
        },
        "id": "_AIHDTp3u2yS",
        "outputId": "09e71947-aa57-45ea-ac4d-b69ece68caba"
      },
      "source": [
        "df.rename(columns={'Consumer complaint narrative':'Complaint'},inplace=True)\n",
        "df"
      ],
      "execution_count": 11,
      "outputs": [
        {
          "output_type": "execute_result",
          "data": {
            "text/html": [
              "<div>\n",
              "<style scoped>\n",
              "    .dataframe tbody tr th:only-of-type {\n",
              "        vertical-align: middle;\n",
              "    }\n",
              "\n",
              "    .dataframe tbody tr th {\n",
              "        vertical-align: top;\n",
              "    }\n",
              "\n",
              "    .dataframe thead th {\n",
              "        text-align: right;\n",
              "    }\n",
              "</style>\n",
              "<table border=\"1\" class=\"dataframe\">\n",
              "  <thead>\n",
              "    <tr style=\"text-align: right;\">\n",
              "      <th></th>\n",
              "      <th>Product</th>\n",
              "      <th>Complaint</th>\n",
              "      <th>Company</th>\n",
              "    </tr>\n",
              "  </thead>\n",
              "  <tbody>\n",
              "    <tr>\n",
              "      <th>0</th>\n",
              "      <td>Vehicle loan or lease</td>\n",
              "      <td>This auto loan was opened on XX/XX/2020 in XXX...</td>\n",
              "      <td>TRUIST FINANCIAL CORPORATION</td>\n",
              "    </tr>\n",
              "    <tr>\n",
              "      <th>1</th>\n",
              "      <td>Debt collection</td>\n",
              "      <td>In XXXX of 2019 I noticed a debt for {$620.00}...</td>\n",
              "      <td>CURO Intermediate Holdings</td>\n",
              "    </tr>\n",
              "    <tr>\n",
              "      <th>2</th>\n",
              "      <td>Vehicle loan or lease</td>\n",
              "      <td>As stated from Capital One, XXXX XX/XX/XXXX an...</td>\n",
              "      <td>CAPITAL ONE FINANCIAL CORPORATION</td>\n",
              "    </tr>\n",
              "    <tr>\n",
              "      <th>3</th>\n",
              "      <td>Checking or savings account</td>\n",
              "      <td>Please see CFPB case XXXX. \\n\\nCapital One, in...</td>\n",
              "      <td>CAPITAL ONE FINANCIAL CORPORATION</td>\n",
              "    </tr>\n",
              "    <tr>\n",
              "      <th>4</th>\n",
              "      <td>Debt collection</td>\n",
              "      <td>This debt was incurred due to medical malpract...</td>\n",
              "      <td>Merchants and Professional Bureau, Inc.</td>\n",
              "    </tr>\n",
              "    <tr>\n",
              "      <th>...</th>\n",
              "      <td>...</td>\n",
              "      <td>...</td>\n",
              "      <td>...</td>\n",
              "    </tr>\n",
              "    <tr>\n",
              "      <th>57448</th>\n",
              "      <td>Student loan</td>\n",
              "      <td>I am attempting to make a payment toward my st...</td>\n",
              "      <td>Nelnet, Inc.</td>\n",
              "    </tr>\n",
              "    <tr>\n",
              "      <th>57449</th>\n",
              "      <td>Debt collection</td>\n",
              "      <td>Received letter for {$480.00}. Original credit...</td>\n",
              "      <td>The Receivable Management Services LLC, New Yo...</td>\n",
              "    </tr>\n",
              "    <tr>\n",
              "      <th>57450</th>\n",
              "      <td>Debt collection</td>\n",
              "      <td>entire time 10 years until XX/XX/2020. XXXX ma...</td>\n",
              "      <td>Convergent Resources, Inc.</td>\n",
              "    </tr>\n",
              "    <tr>\n",
              "      <th>57451</th>\n",
              "      <td>Checking or savings account</td>\n",
              "      <td>I am a customer with Wells Fargo Bank. Recentl...</td>\n",
              "      <td>WELLS FARGO &amp; COMPANY</td>\n",
              "    </tr>\n",
              "    <tr>\n",
              "      <th>57452</th>\n",
              "      <td>Debt collection</td>\n",
              "      <td>I spoken with them several times in a year. An...</td>\n",
              "      <td>Exeter Finance Corp.</td>\n",
              "    </tr>\n",
              "  </tbody>\n",
              "</table>\n",
              "<p>57453 rows × 3 columns</p>\n",
              "</div>"
            ],
            "text/plain": [
              "                           Product  ...                                            Company\n",
              "0            Vehicle loan or lease  ...                       TRUIST FINANCIAL CORPORATION\n",
              "1                  Debt collection  ...                         CURO Intermediate Holdings\n",
              "2            Vehicle loan or lease  ...                  CAPITAL ONE FINANCIAL CORPORATION\n",
              "3      Checking or savings account  ...                  CAPITAL ONE FINANCIAL CORPORATION\n",
              "4                  Debt collection  ...            Merchants and Professional Bureau, Inc.\n",
              "...                            ...  ...                                                ...\n",
              "57448                 Student loan  ...                                       Nelnet, Inc.\n",
              "57449              Debt collection  ...  The Receivable Management Services LLC, New Yo...\n",
              "57450              Debt collection  ...                         Convergent Resources, Inc.\n",
              "57451  Checking or savings account  ...                              WELLS FARGO & COMPANY\n",
              "57452              Debt collection  ...                               Exeter Finance Corp.\n",
              "\n",
              "[57453 rows x 3 columns]"
            ]
          },
          "metadata": {
            "tags": []
          },
          "execution_count": 11
        }
      ]
    },
    {
      "cell_type": "code",
      "metadata": {
        "colab": {
          "base_uri": "https://localhost:8080/"
        },
        "id": "4umogYBZu4rw",
        "outputId": "d723b6b9-4b75-4c78-d1a4-0550d93c92f1"
      },
      "source": [
        "nltk.download('punkt')"
      ],
      "execution_count": 12,
      "outputs": [
        {
          "output_type": "stream",
          "text": [
            "[nltk_data] Downloading package punkt to /root/nltk_data...\n",
            "[nltk_data]   Package punkt is already up-to-date!\n"
          ],
          "name": "stdout"
        },
        {
          "output_type": "execute_result",
          "data": {
            "text/plain": [
              "True"
            ]
          },
          "metadata": {
            "tags": []
          },
          "execution_count": 12
        }
      ]
    },
    {
      "cell_type": "code",
      "metadata": {
        "colab": {
          "base_uri": "https://localhost:8080/"
        },
        "id": "GEjDZTfTyCKt",
        "outputId": "15e341c4-5a25-43a2-a7fe-f3505f7213a3"
      },
      "source": [
        "nltk.download('stopwords')"
      ],
      "execution_count": 13,
      "outputs": [
        {
          "output_type": "stream",
          "text": [
            "[nltk_data] Downloading package stopwords to /root/nltk_data...\n",
            "[nltk_data]   Package stopwords is already up-to-date!\n"
          ],
          "name": "stdout"
        },
        {
          "output_type": "execute_result",
          "data": {
            "text/plain": [
              "True"
            ]
          },
          "metadata": {
            "tags": []
          },
          "execution_count": 13
        }
      ]
    },
    {
      "cell_type": "code",
      "metadata": {
        "id": "OJHvzwhLyFmk"
      },
      "source": [
        "from nltk.stem import SnowballStemmer\n",
        "stemmer = SnowballStemmer('english')\n",
        "\n",
        "stopwords = set(nltk.corpus.stopwords.words('english'))"
      ],
      "execution_count": 14,
      "outputs": []
    },
    {
      "cell_type": "code",
      "metadata": {
        "colab": {
          "base_uri": "https://localhost:8080/",
          "height": 103
        },
        "id": "FN03gec31aad",
        "outputId": "bcc2b004-17cc-4238-c43f-6e75b33c15dd"
      },
      "source": [
        "df.loc[0,'Complaint'].lower()"
      ],
      "execution_count": 15,
      "outputs": [
        {
          "output_type": "execute_result",
          "data": {
            "application/vnd.google.colaboratory.intrinsic+json": {
              "type": "string"
            },
            "text/plain": [
              "\"this auto loan was opened on xx/xx/2020 in xxxx, nc with bb & t in my name. i have never been to north carolina and i have never been a resident. i have filed a dispute twice through my credit bureaus but both times bb & t has claimed that this is an accurate loan. which i wasn't aware of until today. i have tried to contact bb & t multiple times but i have never gotten through to a live person. i do n't drive and i have never owned a car before. i didn't have any knowledge of this account until i checked xxxxxxxx xxxx  and noticed it. i've tried twice to dispute it. additionally i never received any bills or information about this account. this is my last resort in trying to remove this fraudulent loan off of my account.\""
            ]
          },
          "metadata": {
            "tags": []
          },
          "execution_count": 15
        }
      ]
    },
    {
      "cell_type": "code",
      "metadata": {
        "id": "7_UEbM-Fcr3O"
      },
      "source": [
        "from nltk.stem import \tWordNetLemmatizer\n",
        "wordnet_lemmatizer = WordNetLemmatizer()"
      ],
      "execution_count": 16,
      "outputs": []
    },
    {
      "cell_type": "code",
      "metadata": {
        "id": "9GgsApyHxVQa"
      },
      "source": [
        "def clean_text_nltk(txt):\n",
        "  txt = txt.lower()\n",
        "  words = [wordnet_lemmatizer.lemmatize(re.sub('\\d+','', word)) for word in nltk.word_tokenize(txt) if (word not in stopwords and len(word) >3 and len(word.strip('Xx/')) >2 and len(re.sub('\\d+', '', word.strip('Xx/'))) > 3)]\n",
        "  return ' '.join(words)\n",
        "  \n",
        "  \n",
        "# if word not in stopwords and len(word) >3 and len(word.strip('Xx/')) >2 and len(re.sub('\\d+', '', word.strip('Xx/'))) > 3:\n",
        "# print(stemmer.stem(word), word)"
      ],
      "execution_count": 17,
      "outputs": []
    },
    {
      "cell_type": "code",
      "metadata": {
        "colab": {
          "base_uri": "https://localhost:8080/"
        },
        "id": "7Fh5sLxtcD39",
        "outputId": "57e854ff-8317-4c6e-f58a-351a479052e5"
      },
      "source": [
        "# re.sub('\\d+','', '2110asdad')\n",
        "nltk.download('wordnet')"
      ],
      "execution_count": 20,
      "outputs": [
        {
          "output_type": "stream",
          "text": [
            "[nltk_data] Downloading package wordnet to /root/nltk_data...\n",
            "[nltk_data]   Unzipping corpora/wordnet.zip.\n"
          ],
          "name": "stdout"
        },
        {
          "output_type": "execute_result",
          "data": {
            "text/plain": [
              "True"
            ]
          },
          "metadata": {
            "tags": []
          },
          "execution_count": 20
        }
      ]
    },
    {
      "cell_type": "code",
      "metadata": {
        "id": "kM4dEhThwkrF"
      },
      "source": [
        "df['Complaint'] = df['Complaint'].apply(clean_text_nltk)"
      ],
      "execution_count": 21,
      "outputs": []
    },
    {
      "cell_type": "code",
      "metadata": {
        "id": "KRDAGHaCu7oo"
      },
      "source": [
        "# def clean_text(txt):\n",
        "#     doc = nlp(txt)\n",
        "#     text = [token.lemma_ for token in doc if (len(token) > 3 and len(str(token).strip('Xx/')) > 2 and len(re.sub('\\d+','', str(token).strip('Xx/'))) and token.is_stop == False)]\n",
        "#     return text\n",
        "# #     return ' '.join(text)"
      ],
      "execution_count": 22,
      "outputs": []
    },
    {
      "cell_type": "code",
      "metadata": {
        "id": "q7BuGQXvu9oM"
      },
      "source": [
        "# import re\n",
        "# df['Complaint'] = df['Complaint'].apply(clean_text)"
      ],
      "execution_count": 23,
      "outputs": []
    },
    {
      "cell_type": "code",
      "metadata": {
        "colab": {
          "base_uri": "https://localhost:8080/",
          "height": 204
        },
        "id": "ONAVQ7vFu_fG",
        "outputId": "ca06f8a2-839c-4198-a149-628aa9aac374"
      },
      "source": [
        "df.head()"
      ],
      "execution_count": 24,
      "outputs": [
        {
          "output_type": "execute_result",
          "data": {
            "text/html": [
              "<div>\n",
              "<style scoped>\n",
              "    .dataframe tbody tr th:only-of-type {\n",
              "        vertical-align: middle;\n",
              "    }\n",
              "\n",
              "    .dataframe tbody tr th {\n",
              "        vertical-align: top;\n",
              "    }\n",
              "\n",
              "    .dataframe thead th {\n",
              "        text-align: right;\n",
              "    }\n",
              "</style>\n",
              "<table border=\"1\" class=\"dataframe\">\n",
              "  <thead>\n",
              "    <tr style=\"text-align: right;\">\n",
              "      <th></th>\n",
              "      <th>Product</th>\n",
              "      <th>Complaint</th>\n",
              "      <th>Company</th>\n",
              "    </tr>\n",
              "  </thead>\n",
              "  <tbody>\n",
              "    <tr>\n",
              "      <th>0</th>\n",
              "      <td>Vehicle loan or lease</td>\n",
              "      <td>auto loan opened name never north carolina nev...</td>\n",
              "      <td>TRUIST FINANCIAL CORPORATION</td>\n",
              "    </tr>\n",
              "    <tr>\n",
              "      <th>1</th>\n",
              "      <td>Debt collection</td>\n",
              "      <td>noticed debt credit believed mine thought spee...</td>\n",
              "      <td>CURO Intermediate Holdings</td>\n",
              "    </tr>\n",
              "    <tr>\n",
              "      <th>2</th>\n",
              "      <td>Vehicle loan or lease</td>\n",
              "      <td>stated capital wife went several dealership re...</td>\n",
              "      <td>CAPITAL ONE FINANCIAL CORPORATION</td>\n",
              "    </tr>\n",
              "    <tr>\n",
              "      <th>3</th>\n",
              "      <td>Checking or savings account</td>\n",
              "      <td>please cfpb case capital letter provided attac...</td>\n",
              "      <td>CAPITAL ONE FINANCIAL CORPORATION</td>\n",
              "    </tr>\n",
              "    <tr>\n",
              "      <th>4</th>\n",
              "      <td>Debt collection</td>\n",
              "      <td>debt incurred medical malpractice asked doctor...</td>\n",
              "      <td>Merchants and Professional Bureau, Inc.</td>\n",
              "    </tr>\n",
              "  </tbody>\n",
              "</table>\n",
              "</div>"
            ],
            "text/plain": [
              "                       Product  ...                                  Company\n",
              "0        Vehicle loan or lease  ...             TRUIST FINANCIAL CORPORATION\n",
              "1              Debt collection  ...               CURO Intermediate Holdings\n",
              "2        Vehicle loan or lease  ...        CAPITAL ONE FINANCIAL CORPORATION\n",
              "3  Checking or savings account  ...        CAPITAL ONE FINANCIAL CORPORATION\n",
              "4              Debt collection  ...  Merchants and Professional Bureau, Inc.\n",
              "\n",
              "[5 rows x 3 columns]"
            ]
          },
          "metadata": {
            "tags": []
          },
          "execution_count": 24
        }
      ]
    },
    {
      "cell_type": "code",
      "metadata": {
        "colab": {
          "base_uri": "https://localhost:8080/"
        },
        "id": "eu3989fDvE3N",
        "outputId": "98d9fd2c-9913-48d1-c16a-fea7ab2d12a3"
      },
      "source": [
        "df['Product'].unique()"
      ],
      "execution_count": 25,
      "outputs": [
        {
          "output_type": "execute_result",
          "data": {
            "text/plain": [
              "array(['Vehicle loan or lease', 'Debt collection',\n",
              "       'Checking or savings account', 'Mortgage',\n",
              "       'Credit card or prepaid card', 'Student loan'], dtype=object)"
            ]
          },
          "metadata": {
            "tags": []
          },
          "execution_count": 25
        }
      ]
    },
    {
      "cell_type": "code",
      "metadata": {
        "id": "J2g2ChAhvG0y"
      },
      "source": [
        "product_label = {'Vehicle loan or lease': 5, 'Debt collection': 0, 'Checking or savings account': 3, 'Mortgage': 2, 'Credit card or prepaid card': 1, 'Student loan': 4}"
      ],
      "execution_count": 26,
      "outputs": []
    },
    {
      "cell_type": "code",
      "metadata": {
        "colab": {
          "base_uri": "https://localhost:8080/",
          "height": 204
        },
        "id": "QoGryA8KvInp",
        "outputId": "cf85fcb6-49c5-433a-ad2b-ec56516c41bc"
      },
      "source": [
        "df['Product'] = df['Product'].map(product_label)\n",
        "df.head()"
      ],
      "execution_count": 27,
      "outputs": [
        {
          "output_type": "execute_result",
          "data": {
            "text/html": [
              "<div>\n",
              "<style scoped>\n",
              "    .dataframe tbody tr th:only-of-type {\n",
              "        vertical-align: middle;\n",
              "    }\n",
              "\n",
              "    .dataframe tbody tr th {\n",
              "        vertical-align: top;\n",
              "    }\n",
              "\n",
              "    .dataframe thead th {\n",
              "        text-align: right;\n",
              "    }\n",
              "</style>\n",
              "<table border=\"1\" class=\"dataframe\">\n",
              "  <thead>\n",
              "    <tr style=\"text-align: right;\">\n",
              "      <th></th>\n",
              "      <th>Product</th>\n",
              "      <th>Complaint</th>\n",
              "      <th>Company</th>\n",
              "    </tr>\n",
              "  </thead>\n",
              "  <tbody>\n",
              "    <tr>\n",
              "      <th>0</th>\n",
              "      <td>5</td>\n",
              "      <td>auto loan opened name never north carolina nev...</td>\n",
              "      <td>TRUIST FINANCIAL CORPORATION</td>\n",
              "    </tr>\n",
              "    <tr>\n",
              "      <th>1</th>\n",
              "      <td>0</td>\n",
              "      <td>noticed debt credit believed mine thought spee...</td>\n",
              "      <td>CURO Intermediate Holdings</td>\n",
              "    </tr>\n",
              "    <tr>\n",
              "      <th>2</th>\n",
              "      <td>5</td>\n",
              "      <td>stated capital wife went several dealership re...</td>\n",
              "      <td>CAPITAL ONE FINANCIAL CORPORATION</td>\n",
              "    </tr>\n",
              "    <tr>\n",
              "      <th>3</th>\n",
              "      <td>3</td>\n",
              "      <td>please cfpb case capital letter provided attac...</td>\n",
              "      <td>CAPITAL ONE FINANCIAL CORPORATION</td>\n",
              "    </tr>\n",
              "    <tr>\n",
              "      <th>4</th>\n",
              "      <td>0</td>\n",
              "      <td>debt incurred medical malpractice asked doctor...</td>\n",
              "      <td>Merchants and Professional Bureau, Inc.</td>\n",
              "    </tr>\n",
              "  </tbody>\n",
              "</table>\n",
              "</div>"
            ],
            "text/plain": [
              "   Product  ...                                  Company\n",
              "0        5  ...             TRUIST FINANCIAL CORPORATION\n",
              "1        0  ...               CURO Intermediate Holdings\n",
              "2        5  ...        CAPITAL ONE FINANCIAL CORPORATION\n",
              "3        3  ...        CAPITAL ONE FINANCIAL CORPORATION\n",
              "4        0  ...  Merchants and Professional Bureau, Inc.\n",
              "\n",
              "[5 rows x 3 columns]"
            ]
          },
          "metadata": {
            "tags": []
          },
          "execution_count": 27
        }
      ]
    },
    {
      "cell_type": "code",
      "metadata": {
        "id": "bY0vDe-yvKXF"
      },
      "source": [
        " ## Lets see the most frequent words in each classes"
      ],
      "execution_count": 28,
      "outputs": []
    },
    {
      "cell_type": "code",
      "metadata": {
        "colab": {
          "base_uri": "https://localhost:8080/",
          "height": 198
        },
        "id": "69eGN3La47o9",
        "outputId": "11c12e10-d414-4ee7-977e-fce6d1fd79d4"
      },
      "source": [
        "txts = df[df['Product'] == 5]['Complaint'].tolist()\n",
        "wordcloud = WordCloud().generate(' '.join(txts))\n",
        "\n",
        "# Display the generated image:\n",
        "plt.imshow(wordcloud, interpolation='bilinear')\n",
        "plt.axis(\"off\")\n",
        "plt.show()\n"
      ],
      "execution_count": 29,
      "outputs": [
        {
          "output_type": "display_data",
          "data": {
            "image/png": "[encoded data removed]",
            "text/plain": [
              "<Figure size 432x288 with 1 Axes>"
            ]
          },
          "metadata": {
            "tags": [],
            "needs_background": "light"
          }
        }
      ]
    },
    {
      "cell_type": "code",
      "metadata": {
        "colab": {
          "base_uri": "https://localhost:8080/",
          "height": 1000
        },
        "id": "TOZGQnpv5KUw",
        "outputId": "d70070a9-7733-413a-e9e0-792ef16ce8ff"
      },
      "source": [
        "for i,v in product_label.items():\n",
        "  print('Word cloud for {} is: '.format(i))\n",
        "\n",
        "  txts = df[df['Product'] == v]['Complaint'].tolist()\n",
        "  wordcloud = WordCloud().generate(' '.join(txts))\n",
        "\n",
        "  # Display the generated image:\n",
        "  plt.imshow(wordcloud, interpolation='bilinear')\n",
        "  plt.axis(\"off\")\n",
        "  plt.show()"
      ],
      "execution_count": 30,
      "outputs": [
        {
          "output_type": "stream",
          "text": [
            "Word cloud for Vehicle loan or lease is: \n"
          ],
          "name": "stdout"
        },
        {
          "output_type": "display_data",
          "data": {
            "image/png": "[encoded data removed]",
            "text/plain": [
              "<Figure size 432x288 with 1 Axes>"
            ]
          },
          "metadata": {
            "tags": [],
            "needs_background": "light"
          }
        },
        {
          "output_type": "stream",
          "text": [
            "Word cloud for Debt collection is: \n"
          ],
          "name": "stdout"
        },
        {
          "output_type": "display_data",
          "data": {
            "image/png": "[encoded data removed]",
            "text/plain": [
              "<Figure size 432x288 with 1 Axes>"
            ]
          },
          "metadata": {
            "tags": [],
            "needs_background": "light"
          }
        },
        {
          "output_type": "stream",
          "text": [
            "Word cloud for Checking or savings account is: \n"
          ],
          "name": "stdout"
        },
        {
          "output_type": "display_data",
          "data": {
            "image/png": "[encoded data removed]",
            "text/plain": [
              "<Figure size 432x288 with 1 Axes>"
            ]
          },
          "metadata": {
            "tags": [],
            "needs_background": "light"
          }
        },
        {
          "output_type": "stream",
          "text": [
            "Word cloud for Mortgage is: \n"
          ],
          "name": "stdout"
        },
        {
          "output_type": "display_data",
          "data": {
            "image/png": "[encoded data removed]",
            "text/plain": [
              "<Figure size 432x288 with 1 Axes>"
            ]
          },
          "metadata": {
            "tags": [],
            "needs_background": "light"
          }
        },
        {
          "output_type": "stream",
          "text": [
            "Word cloud for Credit card or prepaid card is: \n"
          ],
          "name": "stdout"
        },
        {
          "output_type": "display_data",
          "data": {
            "image/png": "[encoded data removed]",
            "text/plain": [
              "<Figure size 432x288 with 1 Axes>"
            ]
          },
          "metadata": {
            "tags": [],
            "needs_background": "light"
          }
        },
        {
          "output_type": "stream",
          "text": [
            "Word cloud for Student loan is: \n"
          ],
          "name": "stdout"
        },
        {
          "output_type": "display_data",
          "data": {
            "image/png": "[encoded data removed]",
            "text/plain": [
              "<Figure size 432x288 with 1 Axes>"
            ]
          },
          "metadata": {
            "tags": [],
            "needs_background": "light"
          }
        }
      ]
    },
    {
      "cell_type": "code",
      "metadata": {
        "id": "hKLNYV7w6bzE"
      },
      "source": [
        "X = df[['Complaint']]\n",
        "y = df['Product']"
      ],
      "execution_count": 31,
      "outputs": []
    },
    {
      "cell_type": "code",
      "metadata": {
        "id": "Eu14S3z98zj-"
      },
      "source": [
        "X_train, X_test, y_train, y_test = train_test_split(X,y,test_size=0.3, random_state = 42, stratify=y)"
      ],
      "execution_count": 32,
      "outputs": []
    },
    {
      "cell_type": "code",
      "metadata": {
        "colab": {
          "base_uri": "https://localhost:8080/"
        },
        "id": "3RQeI_bV9JcW",
        "outputId": "4961aa4b-ead0-4c32-c91d-1283f5c45c3e"
      },
      "source": [
        "print(X_train.shape, X_test.shape, y_train.shape, y_test.shape)"
      ],
      "execution_count": 33,
      "outputs": [
        {
          "output_type": "stream",
          "text": [
            "(40217, 1) (17236, 1) (40217,) (17236,)\n"
          ],
          "name": "stdout"
        }
      ]
    },
    {
      "cell_type": "code",
      "metadata": {
        "id": "blf-PkFB93I4"
      },
      "source": [
        "## Performing TFIDF vectorizer,"
      ],
      "execution_count": 34,
      "outputs": []
    },
    {
      "cell_type": "code",
      "metadata": {
        "id": "kxi3RSeM-Bbp"
      },
      "source": [
        "tf_vector = TfidfVectorizer(ngram_range=(1,3),max_df=0.75, max_features=1000)\n",
        "X_train_tfidf = tf_vector.fit_transform(X_train['Complaint'])"
      ],
      "execution_count": 35,
      "outputs": []
    },
    {
      "cell_type": "code",
      "metadata": {
        "id": "IsXW2a-k_Y3u"
      },
      "source": [
        "X_test_tfidf = tf_vector.transform(X_test['Complaint'])"
      ],
      "execution_count": 36,
      "outputs": []
    },
    {
      "cell_type": "code",
      "metadata": {
        "colab": {
          "base_uri": "https://localhost:8080/"
        },
        "id": "EfIo85R0AKZC",
        "outputId": "181a2ea6-86b3-40b7-cfca-2b05383ab337"
      },
      "source": [
        "X_train_tfidf.shape, X_test_tfidf.shape"
      ],
      "execution_count": 37,
      "outputs": [
        {
          "output_type": "execute_result",
          "data": {
            "text/plain": [
              "((40217, 1000), (17236, 1000))"
            ]
          },
          "metadata": {
            "tags": []
          },
          "execution_count": 37
        }
      ]
    },
    {
      "cell_type": "code",
      "metadata": {
        "colab": {
          "base_uri": "https://localhost:8080/"
        },
        "id": "S3KXXWrhB5lo",
        "outputId": "92714fdb-e108-4e7c-c012-2d9608d1856b"
      },
      "source": [
        "X_train_tfidf"
      ],
      "execution_count": 38,
      "outputs": [
        {
          "output_type": "execute_result",
          "data": {
            "text/plain": [
              "<40217x1000 sparse matrix of type '<class 'numpy.float64'>'\n",
              "\twith 1948050 stored elements in Compressed Sparse Row format>"
            ]
          },
          "metadata": {
            "tags": []
          },
          "execution_count": 38
        }
      ]
    },
    {
      "cell_type": "code",
      "metadata": {
        "id": "bWHQVe0SB_wF"
      },
      "source": [
        "from sklearn.linear_model import LogisticRegression\n",
        "from sklearn.tree import DecisionTreeClassifier\n",
        "from sklearn.pipeline import Pipeline\n",
        "from sklearn.ensemble import RandomForestClassifier\n",
        "from xgboost import XGBClassifier\n",
        "from sklearn.naive_bayes import MultinomialNB\n",
        "from sklearn.model_selection import RandomizedSearchCV"
      ],
      "execution_count": 39,
      "outputs": []
    },
    {
      "cell_type": "code",
      "metadata": {
        "id": "ChY25S5YXBwk"
      },
      "source": [
        "### Below Steps taking long tome to execute...  so using automl"
      ],
      "execution_count": 40,
      "outputs": []
    },
    {
      "cell_type": "code",
      "metadata": {
        "id": "8I4ha0fgD0WF"
      },
      "source": [
        "# from sklearn.preprocessing import StandardScaler"
      ],
      "execution_count": 41,
      "outputs": []
    },
    {
      "cell_type": "code",
      "metadata": {
        "id": "agVAYGT5DHEr"
      },
      "source": [
        "# pipeline_lr = Pipeline([('sc', StandardScaler()), ('clf', LogisticRegression(random_state=42))])\n",
        "\n",
        "# pipeline_rf = Pipeline([('clf', RandomForestClassifier(random_state=42))])\n",
        "\n",
        "# pipeline_xg = Pipeline([('clf', XGBClassifier(random_state=42))])\n",
        "\n",
        "# pipeline_nb = Pipeline([('clf', MultinomialNB())])\n",
        "\n",
        "# pipeline_dt = Pipeline([('clf', DecisionTreeClassifier(random_state=42))])"
      ],
      "execution_count": 42,
      "outputs": []
    },
    {
      "cell_type": "code",
      "metadata": {
        "id": "UB0S6ZYnEg4E"
      },
      "source": [
        "# lr_params = [{'clf__penalty':['l1', 'l2'], 'clf__solver':['newton-cg', 'lbfgs', 'liblinear', 'sag', 'saga'], 'clf__multi_class':['auto', 'ovr', 'multinomial']}]"
      ],
      "execution_count": 43,
      "outputs": []
    },
    {
      "cell_type": "code",
      "metadata": {
        "id": "14HFFgIJEyH1"
      },
      "source": [
        "# rf_params = {'clf__n_estimators':range(100,1000,50),'clf__criterion':['gini', 'entropy'],'clf__max_depth':range(5,20,3),'clf__min_samples_leaf':range(6,22,4)}"
      ],
      "execution_count": 44,
      "outputs": []
    },
    {
      "cell_type": "code",
      "metadata": {
        "id": "tdsAvmPbHgHk"
      },
      "source": [
        "# xg_params = {'clf__n_estimators':range(100,1000,50),'clf__booster': ['gbtree', 'gblinear','dart'],'clf__max_depth':range(5,20,3),'clf__learning_rate': [0.001, 0.01,0.1]}"
      ],
      "execution_count": 45,
      "outputs": []
    },
    {
      "cell_type": "code",
      "metadata": {
        "id": "gP1bROzrIcGn"
      },
      "source": [
        "# dt_params = {'clf__criterion':['gini', 'entropy'],'clf__max_depth':range(5,20,3),'clf__min_samples_split':range(2,10,2),'clf__min_samples_leaf':range(6,22,4)}"
      ],
      "execution_count": 46,
      "outputs": []
    },
    {
      "cell_type": "code",
      "metadata": {
        "id": "LUSLBrdUJShw"
      },
      "source": [
        "# nb_params = {'clf__alpha':np.arange(0.1,1,0.1)}"
      ],
      "execution_count": 47,
      "outputs": []
    },
    {
      "cell_type": "code",
      "metadata": {
        "id": "wNeIGoYHJe_E"
      },
      "source": [
        "# rnd_lr = RandomizedSearchCV(estimator=pipeline_lr,param_distributions= lr_params,scoring='accuracy',cv=5, n_jobs=-1)\n",
        "\n",
        "# rnd_rf = RandomizedSearchCV(estimator=pipeline_rf,param_distributions=rf_params,scoring='accuracy',cv=5, n_jobs=-1)\n",
        "\n",
        "# rnd_xg = RandomizedSearchCV(estimator=pipeline_xg,param_distributions=xg_params,scoring='accuracy',cv=5, n_jobs=-1)\n",
        "\n",
        "# rnd_dt = RandomizedSearchCV(estimator=pipeline_dt,param_distributions=dt_params,scoring='accuracy',cv=5, n_jobs=-1)\n",
        "\n",
        "# rnd_nb = RandomizedSearchCV(estimator=pipeline_nb,param_distributions=nb_params,scoring='accuracy',cv=5, n_jobs=-1)"
      ],
      "execution_count": 48,
      "outputs": []
    },
    {
      "cell_type": "code",
      "metadata": {
        "id": "-Uj9xn3uKTMA"
      },
      "source": [
        "# rnd_rf.fit(X_train_tfidf, y_train)"
      ],
      "execution_count": 49,
      "outputs": []
    },
    {
      "cell_type": "code",
      "metadata": {
        "id": "-WHPyrf13oIe"
      },
      "source": [
        "# rnd_rf.best_params_"
      ],
      "execution_count": 50,
      "outputs": []
    },
    {
      "cell_type": "code",
      "metadata": {
        "id": "Zou1UrgqK9Rt"
      },
      "source": [
        "# rnd_xg.fit(X_train_tfidf, y_train)"
      ],
      "execution_count": 51,
      "outputs": []
    },
    {
      "cell_type": "code",
      "metadata": {
        "id": "ogitFNISNhSU"
      },
      "source": [
        "# rnd_dt.fit(X_train_tfidf, y_train)"
      ],
      "execution_count": 52,
      "outputs": []
    },
    {
      "cell_type": "code",
      "metadata": {
        "id": "e2-oUrMgNlNx"
      },
      "source": [
        "# rnd_nb.fit(X_train_tfidf, y_train)"
      ],
      "execution_count": 53,
      "outputs": []
    },
    {
      "cell_type": "code",
      "metadata": {
        "colab": {
          "base_uri": "https://localhost:8080/"
        },
        "id": "VOnYVoWaYakU",
        "outputId": "c7c93294-3f0c-45d5-d935-38494d6ae9f6"
      },
      "source": [
        "!apt-get install deafult-jre\n",
        "!java -version"
      ],
      "execution_count": 54,
      "outputs": [
        {
          "output_type": "stream",
          "text": [
            "Reading package lists... Done\n",
            "Building dependency tree       \n",
            "Reading state information... Done\n",
            "E: Unable to locate package deafult-jre\n",
            "openjdk version \"11.0.11\" 2021-04-20\n",
            "OpenJDK Runtime Environment (build 11.0.11+9-Ubuntu-0ubuntu2.18.04)\n",
            "OpenJDK 64-Bit Server VM (build 11.0.11+9-Ubuntu-0ubuntu2.18.04, mixed mode, sharing)\n"
          ],
          "name": "stdout"
        }
      ]
    },
    {
      "cell_type": "code",
      "metadata": {
        "id": "XNCpWHOANoD_",
        "colab": {
          "base_uri": "https://localhost:8080/"
        },
        "outputId": "21813cbe-fb16-4246-bf5d-4e0ab32d0c71"
      },
      "source": [
        "!pip install h2o"
      ],
      "execution_count": 55,
      "outputs": [
        {
          "output_type": "stream",
          "text": [
            "Requirement already satisfied: h2o in /usr/local/lib/python3.7/dist-packages (3.32.1.4)\n",
            "Requirement already satisfied: future in /usr/local/lib/python3.7/dist-packages (from h2o) (0.16.0)\n",
            "Requirement already satisfied: colorama>=0.3.8 in /usr/local/lib/python3.7/dist-packages (from h2o) (0.4.4)\n",
            "Requirement already satisfied: tabulate in /usr/local/lib/python3.7/dist-packages (from h2o) (0.8.9)\n",
            "Requirement already satisfied: requests in /usr/local/lib/python3.7/dist-packages (from h2o) (2.23.0)\n",
            "Requirement already satisfied: idna<3,>=2.5 in /usr/local/lib/python3.7/dist-packages (from requests->h2o) (2.10)\n",
            "Requirement already satisfied: certifi>=2017.4.17 in /usr/local/lib/python3.7/dist-packages (from requests->h2o) (2021.5.30)\n",
            "Requirement already satisfied: urllib3!=1.25.0,!=1.25.1,<1.26,>=1.21.1 in /usr/local/lib/python3.7/dist-packages (from requests->h2o) (1.24.3)\n",
            "Requirement already satisfied: chardet<4,>=3.0.2 in /usr/local/lib/python3.7/dist-packages (from requests->h2o) (3.0.4)\n"
          ],
          "name": "stdout"
        }
      ]
    },
    {
      "cell_type": "code",
      "metadata": {
        "id": "sD3_51H4YuUG"
      },
      "source": [
        "import h2o"
      ],
      "execution_count": 56,
      "outputs": []
    },
    {
      "cell_type": "code",
      "metadata": {
        "id": "93ab23MVY1rI"
      },
      "source": [
        "from h2o.automl import H2OAutoML"
      ],
      "execution_count": 57,
      "outputs": []
    },
    {
      "cell_type": "code",
      "metadata": {
        "colab": {
          "base_uri": "https://localhost:8080/",
          "height": 545
        },
        "id": "u_PNRD0aY_zB",
        "outputId": "348fbf15-3023-4d02-9179-daa7b47fe2c4"
      },
      "source": [
        "h2o.init()"
      ],
      "execution_count": 58,
      "outputs": [
        {
          "output_type": "stream",
          "text": [
            "Checking whether there is an H2O instance running at http://localhost:54321 ..... not found.\n",
            "Attempting to start a local H2O server...\n",
            "  Java Version: openjdk version \"11.0.11\" 2021-04-20; OpenJDK Runtime Environment (build 11.0.11+9-Ubuntu-0ubuntu2.18.04); OpenJDK 64-Bit Server VM (build 11.0.11+9-Ubuntu-0ubuntu2.18.04, mixed mode, sharing)\n",
            "  Starting server from /usr/local/lib/python3.7/dist-packages/h2o/backend/bin/h2o.jar\n",
            "  Ice root: /tmp/tmp7yhkgqlx\n",
            "  JVM stdout: /tmp/tmp7yhkgqlx/h2o_unknownUser_started_from_python.out\n",
            "  JVM stderr: /tmp/tmp7yhkgqlx/h2o_unknownUser_started_from_python.err\n",
            "  Server is running at http://127.0.0.1:54321\n",
            "Connecting to H2O server at http://127.0.0.1:54321 ... successful.\n"
          ],
          "name": "stdout"
        },
        {
          "output_type": "display_data",
          "data": {
            "text/html": [
              "<div style=\"overflow:auto\"><table style=\"width:50%\"><tr><td>H2O_cluster_uptime:</td>\n",
              "<td>02 secs</td></tr>\n",
              "<tr><td>H2O_cluster_timezone:</td>\n",
              "<td>Etc/UTC</td></tr>\n",
              "<tr><td>H2O_data_parsing_timezone:</td>\n",
              "<td>UTC</td></tr>\n",
              "<tr><td>H2O_cluster_version:</td>\n",
              "<td>3.32.1.4</td></tr>\n",
              "<tr><td>H2O_cluster_version_age:</td>\n",
              "<td>2 days </td></tr>\n",
              "<tr><td>H2O_cluster_name:</td>\n",
              "<td>H2O_from_python_unknownUser_4okgl9</td></tr>\n",
              "<tr><td>H2O_cluster_total_nodes:</td>\n",
              "<td>1</td></tr>\n",
              "<tr><td>H2O_cluster_free_memory:</td>\n",
              "<td>3.174 Gb</td></tr>\n",
              "<tr><td>H2O_cluster_total_cores:</td>\n",
              "<td>2</td></tr>\n",
              "<tr><td>H2O_cluster_allowed_cores:</td>\n",
              "<td>2</td></tr>\n",
              "<tr><td>H2O_cluster_status:</td>\n",
              "<td>accepting new members, healthy</td></tr>\n",
              "<tr><td>H2O_connection_url:</td>\n",
              "<td>http://127.0.0.1:54321</td></tr>\n",
              "<tr><td>H2O_connection_proxy:</td>\n",
              "<td>{\"http\": null, \"https\": null}</td></tr>\n",
              "<tr><td>H2O_internal_security:</td>\n",
              "<td>False</td></tr>\n",
              "<tr><td>H2O_API_Extensions:</td>\n",
              "<td>Amazon S3, XGBoost, Algos, AutoML, Core V3, TargetEncoder, Core V4</td></tr>\n",
              "<tr><td>Python_version:</td>\n",
              "<td>3.7.10 final</td></tr></table></div>"
            ],
            "text/plain": [
              "--------------------------  ------------------------------------------------------------------\n",
              "H2O_cluster_uptime:         02 secs\n",
              "H2O_cluster_timezone:       Etc/UTC\n",
              "H2O_data_parsing_timezone:  UTC\n",
              "H2O_cluster_version:        3.32.1.4\n",
              "H2O_cluster_version_age:    2 days\n",
              "H2O_cluster_name:           H2O_from_python_unknownUser_4okgl9\n",
              "H2O_cluster_total_nodes:    1\n",
              "H2O_cluster_free_memory:    3.174 Gb\n",
              "H2O_cluster_total_cores:    2\n",
              "H2O_cluster_allowed_cores:  2\n",
              "H2O_cluster_status:         accepting new members, healthy\n",
              "H2O_connection_url:         http://127.0.0.1:54321\n",
              "H2O_connection_proxy:       {\"http\": null, \"https\": null}\n",
              "H2O_internal_security:      False\n",
              "H2O_API_Extensions:         Amazon S3, XGBoost, Algos, AutoML, Core V3, TargetEncoder, Core V4\n",
              "Python_version:             3.7.10 final\n",
              "--------------------------  ------------------------------------------------------------------"
            ]
          },
          "metadata": {
            "tags": []
          }
        }
      ]
    },
    {
      "cell_type": "code",
      "metadata": {
        "id": "CgYtMP5FZDIo"
      },
      "source": [
        "tf_train_df = pd.DataFrame(X_train_tfidf.toarray(), columns=tf_vector.get_feature_names())"
      ],
      "execution_count": 59,
      "outputs": []
    },
    {
      "cell_type": "code",
      "metadata": {
        "colab": {
          "base_uri": "https://localhost:8080/",
          "height": 270
        },
        "id": "I6B7OUSiZZ-w",
        "outputId": "7a505dda-3f7d-41b4-e277-8d29858ef67c"
      },
      "source": [
        "tf_train_df = pd.concat([tf_train_df,y_train.reset_index(drop=True)], axis=1)\n",
        "tf_train_df.head()"
      ],
      "execution_count": 65,
      "outputs": [
        {
          "output_type": "execute_result",
          "data": {
            "text/html": [
              "<div>\n",
              "<style scoped>\n",
              "    .dataframe tbody tr th:only-of-type {\n",
              "        vertical-align: middle;\n",
              "    }\n",
              "\n",
              "    .dataframe tbody tr th {\n",
              "        vertical-align: top;\n",
              "    }\n",
              "\n",
              "    .dataframe thead th {\n",
              "        text-align: right;\n",
              "    }\n",
              "</style>\n",
              "<table border=\"1\" class=\"dataframe\">\n",
              "  <thead>\n",
              "    <tr style=\"text-align: right;\">\n",
              "      <th></th>\n",
              "      <th>ability</th>\n",
              "      <th>able</th>\n",
              "      <th>absolutely</th>\n",
              "      <th>accept</th>\n",
              "      <th>accepted</th>\n",
              "      <th>access</th>\n",
              "      <th>accordance</th>\n",
              "      <th>according</th>\n",
              "      <th>account</th>\n",
              "      <th>account account</th>\n",
              "      <th>account balance</th>\n",
              "      <th>account bank</th>\n",
              "      <th>account closed</th>\n",
              "      <th>account credit</th>\n",
              "      <th>account number</th>\n",
              "      <th>account opened</th>\n",
              "      <th>account would</th>\n",
              "      <th>acct</th>\n",
              "      <th>accurate</th>\n",
              "      <th>action</th>\n",
              "      <th>activity</th>\n",
              "      <th>actual</th>\n",
              "      <th>actually</th>\n",
              "      <th>added</th>\n",
              "      <th>addition</th>\n",
              "      <th>additional</th>\n",
              "      <th>address</th>\n",
              "      <th>advance</th>\n",
              "      <th>advantage</th>\n",
              "      <th>advised</th>\n",
              "      <th>affidavit</th>\n",
              "      <th>afford</th>\n",
              "      <th>agency</th>\n",
              "      <th>agent</th>\n",
              "      <th>agree</th>\n",
              "      <th>agreed</th>\n",
              "      <th>agreement</th>\n",
              "      <th>alert</th>\n",
              "      <th>alleged</th>\n",
              "      <th>alleged debt</th>\n",
              "      <th>...</th>\n",
              "      <th>violated</th>\n",
              "      <th>violation</th>\n",
              "      <th>visa</th>\n",
              "      <th>voicemail</th>\n",
              "      <th>wait</th>\n",
              "      <th>waited</th>\n",
              "      <th>waiting</th>\n",
              "      <th>want</th>\n",
              "      <th>wanted</th>\n",
              "      <th>wasnt</th>\n",
              "      <th>website</th>\n",
              "      <th>week</th>\n",
              "      <th>well</th>\n",
              "      <th>well fargo</th>\n",
              "      <th>went</th>\n",
              "      <th>whether</th>\n",
              "      <th>whole</th>\n",
              "      <th>wife</th>\n",
              "      <th>willing</th>\n",
              "      <th>wire</th>\n",
              "      <th>withdrawal</th>\n",
              "      <th>within</th>\n",
              "      <th>within day</th>\n",
              "      <th>without</th>\n",
              "      <th>woman</th>\n",
              "      <th>work</th>\n",
              "      <th>worked</th>\n",
              "      <th>working</th>\n",
              "      <th>would</th>\n",
              "      <th>would like</th>\n",
              "      <th>would need</th>\n",
              "      <th>would take</th>\n",
              "      <th>writing</th>\n",
              "      <th>written</th>\n",
              "      <th>wrong</th>\n",
              "      <th>wrote</th>\n",
              "      <th>xx</th>\n",
              "      <th>xxxx</th>\n",
              "      <th>year</th>\n",
              "      <th>Product</th>\n",
              "    </tr>\n",
              "  </thead>\n",
              "  <tbody>\n",
              "    <tr>\n",
              "      <th>0</th>\n",
              "      <td>0.0</td>\n",
              "      <td>0.0</td>\n",
              "      <td>0.0</td>\n",
              "      <td>0.000000</td>\n",
              "      <td>0.0</td>\n",
              "      <td>0.0</td>\n",
              "      <td>0.0</td>\n",
              "      <td>0.0</td>\n",
              "      <td>0.050715</td>\n",
              "      <td>0.0</td>\n",
              "      <td>0.0</td>\n",
              "      <td>0.0</td>\n",
              "      <td>0.0</td>\n",
              "      <td>0.0</td>\n",
              "      <td>0.0</td>\n",
              "      <td>0.0</td>\n",
              "      <td>0.0</td>\n",
              "      <td>0.0</td>\n",
              "      <td>0.0</td>\n",
              "      <td>0.0</td>\n",
              "      <td>0.0</td>\n",
              "      <td>0.0</td>\n",
              "      <td>0.0</td>\n",
              "      <td>0.0</td>\n",
              "      <td>0.0</td>\n",
              "      <td>0.000000</td>\n",
              "      <td>0.0</td>\n",
              "      <td>0.0</td>\n",
              "      <td>0.0</td>\n",
              "      <td>0.0</td>\n",
              "      <td>0.0</td>\n",
              "      <td>0.0</td>\n",
              "      <td>0.0</td>\n",
              "      <td>0.0</td>\n",
              "      <td>0.0</td>\n",
              "      <td>0.000000</td>\n",
              "      <td>0.000000</td>\n",
              "      <td>0.077901</td>\n",
              "      <td>0.0</td>\n",
              "      <td>0.0</td>\n",
              "      <td>...</td>\n",
              "      <td>0.0</td>\n",
              "      <td>0.0</td>\n",
              "      <td>0.0</td>\n",
              "      <td>0.0</td>\n",
              "      <td>0.0</td>\n",
              "      <td>0.0</td>\n",
              "      <td>0.0</td>\n",
              "      <td>0.000000</td>\n",
              "      <td>0.000000</td>\n",
              "      <td>0.0</td>\n",
              "      <td>0.000000</td>\n",
              "      <td>0.050246</td>\n",
              "      <td>0.000000</td>\n",
              "      <td>0.0000</td>\n",
              "      <td>0.0</td>\n",
              "      <td>0.0</td>\n",
              "      <td>0.0</td>\n",
              "      <td>0.0</td>\n",
              "      <td>0.0</td>\n",
              "      <td>0.0</td>\n",
              "      <td>0.000000</td>\n",
              "      <td>0.000000</td>\n",
              "      <td>0.000000</td>\n",
              "      <td>0.0</td>\n",
              "      <td>0.000000</td>\n",
              "      <td>0.000000</td>\n",
              "      <td>0.0</td>\n",
              "      <td>0.000000</td>\n",
              "      <td>0.000000</td>\n",
              "      <td>0.000000</td>\n",
              "      <td>0.0</td>\n",
              "      <td>0.0</td>\n",
              "      <td>0.0</td>\n",
              "      <td>0.0</td>\n",
              "      <td>0.000000</td>\n",
              "      <td>0.074953</td>\n",
              "      <td>0.0</td>\n",
              "      <td>0.0</td>\n",
              "      <td>0.000000</td>\n",
              "      <td>1</td>\n",
              "    </tr>\n",
              "    <tr>\n",
              "      <th>1</th>\n",
              "      <td>0.0</td>\n",
              "      <td>0.0</td>\n",
              "      <td>0.0</td>\n",
              "      <td>0.099666</td>\n",
              "      <td>0.0</td>\n",
              "      <td>0.0</td>\n",
              "      <td>0.0</td>\n",
              "      <td>0.0</td>\n",
              "      <td>0.000000</td>\n",
              "      <td>0.0</td>\n",
              "      <td>0.0</td>\n",
              "      <td>0.0</td>\n",
              "      <td>0.0</td>\n",
              "      <td>0.0</td>\n",
              "      <td>0.0</td>\n",
              "      <td>0.0</td>\n",
              "      <td>0.0</td>\n",
              "      <td>0.0</td>\n",
              "      <td>0.0</td>\n",
              "      <td>0.0</td>\n",
              "      <td>0.0</td>\n",
              "      <td>0.0</td>\n",
              "      <td>0.0</td>\n",
              "      <td>0.0</td>\n",
              "      <td>0.0</td>\n",
              "      <td>0.082253</td>\n",
              "      <td>0.0</td>\n",
              "      <td>0.0</td>\n",
              "      <td>0.0</td>\n",
              "      <td>0.0</td>\n",
              "      <td>0.0</td>\n",
              "      <td>0.0</td>\n",
              "      <td>0.0</td>\n",
              "      <td>0.0</td>\n",
              "      <td>0.0</td>\n",
              "      <td>0.085468</td>\n",
              "      <td>0.000000</td>\n",
              "      <td>0.000000</td>\n",
              "      <td>0.0</td>\n",
              "      <td>0.0</td>\n",
              "      <td>...</td>\n",
              "      <td>0.0</td>\n",
              "      <td>0.0</td>\n",
              "      <td>0.0</td>\n",
              "      <td>0.0</td>\n",
              "      <td>0.0</td>\n",
              "      <td>0.0</td>\n",
              "      <td>0.0</td>\n",
              "      <td>0.000000</td>\n",
              "      <td>0.000000</td>\n",
              "      <td>0.0</td>\n",
              "      <td>0.084333</td>\n",
              "      <td>0.069945</td>\n",
              "      <td>0.000000</td>\n",
              "      <td>0.0000</td>\n",
              "      <td>0.0</td>\n",
              "      <td>0.0</td>\n",
              "      <td>0.0</td>\n",
              "      <td>0.0</td>\n",
              "      <td>0.0</td>\n",
              "      <td>0.0</td>\n",
              "      <td>0.000000</td>\n",
              "      <td>0.000000</td>\n",
              "      <td>0.000000</td>\n",
              "      <td>0.0</td>\n",
              "      <td>0.000000</td>\n",
              "      <td>0.071772</td>\n",
              "      <td>0.0</td>\n",
              "      <td>0.000000</td>\n",
              "      <td>0.088265</td>\n",
              "      <td>0.000000</td>\n",
              "      <td>0.0</td>\n",
              "      <td>0.0</td>\n",
              "      <td>0.0</td>\n",
              "      <td>0.0</td>\n",
              "      <td>0.000000</td>\n",
              "      <td>0.000000</td>\n",
              "      <td>0.0</td>\n",
              "      <td>0.0</td>\n",
              "      <td>0.000000</td>\n",
              "      <td>1</td>\n",
              "    </tr>\n",
              "    <tr>\n",
              "      <th>2</th>\n",
              "      <td>0.0</td>\n",
              "      <td>0.0</td>\n",
              "      <td>0.0</td>\n",
              "      <td>0.000000</td>\n",
              "      <td>0.0</td>\n",
              "      <td>0.0</td>\n",
              "      <td>0.0</td>\n",
              "      <td>0.0</td>\n",
              "      <td>0.000000</td>\n",
              "      <td>0.0</td>\n",
              "      <td>0.0</td>\n",
              "      <td>0.0</td>\n",
              "      <td>0.0</td>\n",
              "      <td>0.0</td>\n",
              "      <td>0.0</td>\n",
              "      <td>0.0</td>\n",
              "      <td>0.0</td>\n",
              "      <td>0.0</td>\n",
              "      <td>0.0</td>\n",
              "      <td>0.0</td>\n",
              "      <td>0.0</td>\n",
              "      <td>0.0</td>\n",
              "      <td>0.0</td>\n",
              "      <td>0.0</td>\n",
              "      <td>0.0</td>\n",
              "      <td>0.000000</td>\n",
              "      <td>0.0</td>\n",
              "      <td>0.0</td>\n",
              "      <td>0.0</td>\n",
              "      <td>0.0</td>\n",
              "      <td>0.0</td>\n",
              "      <td>0.0</td>\n",
              "      <td>0.0</td>\n",
              "      <td>0.0</td>\n",
              "      <td>0.0</td>\n",
              "      <td>0.000000</td>\n",
              "      <td>0.000000</td>\n",
              "      <td>0.000000</td>\n",
              "      <td>0.0</td>\n",
              "      <td>0.0</td>\n",
              "      <td>...</td>\n",
              "      <td>0.0</td>\n",
              "      <td>0.0</td>\n",
              "      <td>0.0</td>\n",
              "      <td>0.0</td>\n",
              "      <td>0.0</td>\n",
              "      <td>0.0</td>\n",
              "      <td>0.0</td>\n",
              "      <td>0.000000</td>\n",
              "      <td>0.000000</td>\n",
              "      <td>0.0</td>\n",
              "      <td>0.000000</td>\n",
              "      <td>0.000000</td>\n",
              "      <td>0.229643</td>\n",
              "      <td>0.3436</td>\n",
              "      <td>0.0</td>\n",
              "      <td>0.0</td>\n",
              "      <td>0.0</td>\n",
              "      <td>0.0</td>\n",
              "      <td>0.0</td>\n",
              "      <td>0.0</td>\n",
              "      <td>0.000000</td>\n",
              "      <td>0.000000</td>\n",
              "      <td>0.000000</td>\n",
              "      <td>0.0</td>\n",
              "      <td>0.000000</td>\n",
              "      <td>0.000000</td>\n",
              "      <td>0.0</td>\n",
              "      <td>0.000000</td>\n",
              "      <td>0.000000</td>\n",
              "      <td>0.000000</td>\n",
              "      <td>0.0</td>\n",
              "      <td>0.0</td>\n",
              "      <td>0.0</td>\n",
              "      <td>0.0</td>\n",
              "      <td>0.000000</td>\n",
              "      <td>0.000000</td>\n",
              "      <td>0.0</td>\n",
              "      <td>0.0</td>\n",
              "      <td>0.000000</td>\n",
              "      <td>2</td>\n",
              "    </tr>\n",
              "    <tr>\n",
              "      <th>3</th>\n",
              "      <td>0.0</td>\n",
              "      <td>0.0</td>\n",
              "      <td>0.0</td>\n",
              "      <td>0.000000</td>\n",
              "      <td>0.0</td>\n",
              "      <td>0.0</td>\n",
              "      <td>0.0</td>\n",
              "      <td>0.0</td>\n",
              "      <td>0.000000</td>\n",
              "      <td>0.0</td>\n",
              "      <td>0.0</td>\n",
              "      <td>0.0</td>\n",
              "      <td>0.0</td>\n",
              "      <td>0.0</td>\n",
              "      <td>0.0</td>\n",
              "      <td>0.0</td>\n",
              "      <td>0.0</td>\n",
              "      <td>0.0</td>\n",
              "      <td>0.0</td>\n",
              "      <td>0.0</td>\n",
              "      <td>0.0</td>\n",
              "      <td>0.0</td>\n",
              "      <td>0.0</td>\n",
              "      <td>0.0</td>\n",
              "      <td>0.0</td>\n",
              "      <td>0.000000</td>\n",
              "      <td>0.0</td>\n",
              "      <td>0.0</td>\n",
              "      <td>0.0</td>\n",
              "      <td>0.0</td>\n",
              "      <td>0.0</td>\n",
              "      <td>0.0</td>\n",
              "      <td>0.0</td>\n",
              "      <td>0.0</td>\n",
              "      <td>0.0</td>\n",
              "      <td>0.000000</td>\n",
              "      <td>0.000000</td>\n",
              "      <td>0.000000</td>\n",
              "      <td>0.0</td>\n",
              "      <td>0.0</td>\n",
              "      <td>...</td>\n",
              "      <td>0.0</td>\n",
              "      <td>0.0</td>\n",
              "      <td>0.0</td>\n",
              "      <td>0.0</td>\n",
              "      <td>0.0</td>\n",
              "      <td>0.0</td>\n",
              "      <td>0.0</td>\n",
              "      <td>0.109555</td>\n",
              "      <td>0.000000</td>\n",
              "      <td>0.0</td>\n",
              "      <td>0.000000</td>\n",
              "      <td>0.000000</td>\n",
              "      <td>0.000000</td>\n",
              "      <td>0.0000</td>\n",
              "      <td>0.0</td>\n",
              "      <td>0.0</td>\n",
              "      <td>0.0</td>\n",
              "      <td>0.0</td>\n",
              "      <td>0.0</td>\n",
              "      <td>0.0</td>\n",
              "      <td>0.000000</td>\n",
              "      <td>0.000000</td>\n",
              "      <td>0.000000</td>\n",
              "      <td>0.0</td>\n",
              "      <td>0.000000</td>\n",
              "      <td>0.000000</td>\n",
              "      <td>0.0</td>\n",
              "      <td>0.000000</td>\n",
              "      <td>0.000000</td>\n",
              "      <td>0.000000</td>\n",
              "      <td>0.0</td>\n",
              "      <td>0.0</td>\n",
              "      <td>0.0</td>\n",
              "      <td>0.0</td>\n",
              "      <td>0.000000</td>\n",
              "      <td>0.000000</td>\n",
              "      <td>0.0</td>\n",
              "      <td>0.0</td>\n",
              "      <td>0.090313</td>\n",
              "      <td>4</td>\n",
              "    </tr>\n",
              "    <tr>\n",
              "      <th>4</th>\n",
              "      <td>0.0</td>\n",
              "      <td>0.0</td>\n",
              "      <td>0.0</td>\n",
              "      <td>0.000000</td>\n",
              "      <td>0.0</td>\n",
              "      <td>0.0</td>\n",
              "      <td>0.0</td>\n",
              "      <td>0.0</td>\n",
              "      <td>0.000000</td>\n",
              "      <td>0.0</td>\n",
              "      <td>0.0</td>\n",
              "      <td>0.0</td>\n",
              "      <td>0.0</td>\n",
              "      <td>0.0</td>\n",
              "      <td>0.0</td>\n",
              "      <td>0.0</td>\n",
              "      <td>0.0</td>\n",
              "      <td>0.0</td>\n",
              "      <td>0.0</td>\n",
              "      <td>0.0</td>\n",
              "      <td>0.0</td>\n",
              "      <td>0.0</td>\n",
              "      <td>0.0</td>\n",
              "      <td>0.0</td>\n",
              "      <td>0.0</td>\n",
              "      <td>0.000000</td>\n",
              "      <td>0.0</td>\n",
              "      <td>0.0</td>\n",
              "      <td>0.0</td>\n",
              "      <td>0.0</td>\n",
              "      <td>0.0</td>\n",
              "      <td>0.0</td>\n",
              "      <td>0.0</td>\n",
              "      <td>0.0</td>\n",
              "      <td>0.0</td>\n",
              "      <td>0.000000</td>\n",
              "      <td>0.043483</td>\n",
              "      <td>0.000000</td>\n",
              "      <td>0.0</td>\n",
              "      <td>0.0</td>\n",
              "      <td>...</td>\n",
              "      <td>0.0</td>\n",
              "      <td>0.0</td>\n",
              "      <td>0.0</td>\n",
              "      <td>0.0</td>\n",
              "      <td>0.0</td>\n",
              "      <td>0.0</td>\n",
              "      <td>0.0</td>\n",
              "      <td>0.034870</td>\n",
              "      <td>0.043868</td>\n",
              "      <td>0.0</td>\n",
              "      <td>0.043234</td>\n",
              "      <td>0.071716</td>\n",
              "      <td>0.033784</td>\n",
              "      <td>0.0000</td>\n",
              "      <td>0.0</td>\n",
              "      <td>0.0</td>\n",
              "      <td>0.0</td>\n",
              "      <td>0.0</td>\n",
              "      <td>0.0</td>\n",
              "      <td>0.0</td>\n",
              "      <td>0.059596</td>\n",
              "      <td>0.037789</td>\n",
              "      <td>0.049734</td>\n",
              "      <td>0.0</td>\n",
              "      <td>0.058458</td>\n",
              "      <td>0.000000</td>\n",
              "      <td>0.0</td>\n",
              "      <td>0.045392</td>\n",
              "      <td>0.135749</td>\n",
              "      <td>0.045086</td>\n",
              "      <td>0.0</td>\n",
              "      <td>0.0</td>\n",
              "      <td>0.0</td>\n",
              "      <td>0.0</td>\n",
              "      <td>0.043244</td>\n",
              "      <td>0.000000</td>\n",
              "      <td>0.0</td>\n",
              "      <td>0.0</td>\n",
              "      <td>0.000000</td>\n",
              "      <td>2</td>\n",
              "    </tr>\n",
              "  </tbody>\n",
              "</table>\n",
              "<p>5 rows × 1001 columns</p>\n",
              "</div>"
            ],
            "text/plain": [
              "   ability  able  absolutely    accept  ...   xx  xxxx      year  Product\n",
              "0      0.0   0.0         0.0  0.000000  ...  0.0   0.0  0.000000        1\n",
              "1      0.0   0.0         0.0  0.099666  ...  0.0   0.0  0.000000        1\n",
              "2      0.0   0.0         0.0  0.000000  ...  0.0   0.0  0.000000        2\n",
              "3      0.0   0.0         0.0  0.000000  ...  0.0   0.0  0.090313        4\n",
              "4      0.0   0.0         0.0  0.000000  ...  0.0   0.0  0.000000        2\n",
              "\n",
              "[5 rows x 1001 columns]"
            ]
          },
          "metadata": {
            "tags": []
          },
          "execution_count": 65
        }
      ]
    },
    {
      "cell_type": "code",
      "metadata": {
        "colab": {
          "base_uri": "https://localhost:8080/",
          "height": 270
        },
        "id": "vISeRoyUeatG",
        "outputId": "bdf03b92-0560-462b-aef7-c6cc247438c1"
      },
      "source": [
        "tf_test_df = pd.DataFrame(X_test_tfidf.toarray(), columns=tf_vector.get_feature_names())\n",
        "\n",
        "tf_test_df = pd.concat([tf_test_df,y_test.reset_index(drop=True)], axis=1)\n",
        "tf_test_df.head()"
      ],
      "execution_count": 67,
      "outputs": [
        {
          "output_type": "execute_result",
          "data": {
            "text/html": [
              "<div>\n",
              "<style scoped>\n",
              "    .dataframe tbody tr th:only-of-type {\n",
              "        vertical-align: middle;\n",
              "    }\n",
              "\n",
              "    .dataframe tbody tr th {\n",
              "        vertical-align: top;\n",
              "    }\n",
              "\n",
              "    .dataframe thead th {\n",
              "        text-align: right;\n",
              "    }\n",
              "</style>\n",
              "<table border=\"1\" class=\"dataframe\">\n",
              "  <thead>\n",
              "    <tr style=\"text-align: right;\">\n",
              "      <th></th>\n",
              "      <th>ability</th>\n",
              "      <th>able</th>\n",
              "      <th>absolutely</th>\n",
              "      <th>accept</th>\n",
              "      <th>accepted</th>\n",
              "      <th>access</th>\n",
              "      <th>accordance</th>\n",
              "      <th>according</th>\n",
              "      <th>account</th>\n",
              "      <th>account account</th>\n",
              "      <th>account balance</th>\n",
              "      <th>account bank</th>\n",
              "      <th>account closed</th>\n",
              "      <th>account credit</th>\n",
              "      <th>account number</th>\n",
              "      <th>account opened</th>\n",
              "      <th>account would</th>\n",
              "      <th>acct</th>\n",
              "      <th>accurate</th>\n",
              "      <th>action</th>\n",
              "      <th>activity</th>\n",
              "      <th>actual</th>\n",
              "      <th>actually</th>\n",
              "      <th>added</th>\n",
              "      <th>addition</th>\n",
              "      <th>additional</th>\n",
              "      <th>address</th>\n",
              "      <th>advance</th>\n",
              "      <th>advantage</th>\n",
              "      <th>advised</th>\n",
              "      <th>affidavit</th>\n",
              "      <th>afford</th>\n",
              "      <th>agency</th>\n",
              "      <th>agent</th>\n",
              "      <th>agree</th>\n",
              "      <th>agreed</th>\n",
              "      <th>agreement</th>\n",
              "      <th>alert</th>\n",
              "      <th>alleged</th>\n",
              "      <th>alleged debt</th>\n",
              "      <th>...</th>\n",
              "      <th>violated</th>\n",
              "      <th>violation</th>\n",
              "      <th>visa</th>\n",
              "      <th>voicemail</th>\n",
              "      <th>wait</th>\n",
              "      <th>waited</th>\n",
              "      <th>waiting</th>\n",
              "      <th>want</th>\n",
              "      <th>wanted</th>\n",
              "      <th>wasnt</th>\n",
              "      <th>website</th>\n",
              "      <th>week</th>\n",
              "      <th>well</th>\n",
              "      <th>well fargo</th>\n",
              "      <th>went</th>\n",
              "      <th>whether</th>\n",
              "      <th>whole</th>\n",
              "      <th>wife</th>\n",
              "      <th>willing</th>\n",
              "      <th>wire</th>\n",
              "      <th>withdrawal</th>\n",
              "      <th>within</th>\n",
              "      <th>within day</th>\n",
              "      <th>without</th>\n",
              "      <th>woman</th>\n",
              "      <th>work</th>\n",
              "      <th>worked</th>\n",
              "      <th>working</th>\n",
              "      <th>would</th>\n",
              "      <th>would like</th>\n",
              "      <th>would need</th>\n",
              "      <th>would take</th>\n",
              "      <th>writing</th>\n",
              "      <th>written</th>\n",
              "      <th>wrong</th>\n",
              "      <th>wrote</th>\n",
              "      <th>xx</th>\n",
              "      <th>xxxx</th>\n",
              "      <th>year</th>\n",
              "      <th>Product</th>\n",
              "    </tr>\n",
              "  </thead>\n",
              "  <tbody>\n",
              "    <tr>\n",
              "      <th>0</th>\n",
              "      <td>0.0</td>\n",
              "      <td>0.000000</td>\n",
              "      <td>0.0</td>\n",
              "      <td>0.0</td>\n",
              "      <td>0.0</td>\n",
              "      <td>0.0</td>\n",
              "      <td>0.0</td>\n",
              "      <td>0.0</td>\n",
              "      <td>0.297308</td>\n",
              "      <td>0.0</td>\n",
              "      <td>0.0</td>\n",
              "      <td>0.0</td>\n",
              "      <td>0.0</td>\n",
              "      <td>0.0</td>\n",
              "      <td>0.00000</td>\n",
              "      <td>0.0</td>\n",
              "      <td>0.0</td>\n",
              "      <td>0.0</td>\n",
              "      <td>0.0</td>\n",
              "      <td>0.0</td>\n",
              "      <td>0.0</td>\n",
              "      <td>0.000000</td>\n",
              "      <td>0.0</td>\n",
              "      <td>0.0</td>\n",
              "      <td>0.0</td>\n",
              "      <td>0.0</td>\n",
              "      <td>0.0</td>\n",
              "      <td>0.0</td>\n",
              "      <td>0.0</td>\n",
              "      <td>0.0</td>\n",
              "      <td>0.0</td>\n",
              "      <td>0.0</td>\n",
              "      <td>0.0</td>\n",
              "      <td>0.0</td>\n",
              "      <td>0.0</td>\n",
              "      <td>0.0</td>\n",
              "      <td>0.0</td>\n",
              "      <td>0.0</td>\n",
              "      <td>0.0</td>\n",
              "      <td>0.0</td>\n",
              "      <td>...</td>\n",
              "      <td>0.0</td>\n",
              "      <td>0.0</td>\n",
              "      <td>0.0</td>\n",
              "      <td>0.0</td>\n",
              "      <td>0.0</td>\n",
              "      <td>0.0</td>\n",
              "      <td>0.0</td>\n",
              "      <td>0.0</td>\n",
              "      <td>0.0</td>\n",
              "      <td>0.0</td>\n",
              "      <td>0.0</td>\n",
              "      <td>0.0</td>\n",
              "      <td>0.0</td>\n",
              "      <td>0.0</td>\n",
              "      <td>0.145225</td>\n",
              "      <td>0.0</td>\n",
              "      <td>0.0</td>\n",
              "      <td>0.0</td>\n",
              "      <td>0.0</td>\n",
              "      <td>0.0</td>\n",
              "      <td>0.00000</td>\n",
              "      <td>0.0</td>\n",
              "      <td>0.0</td>\n",
              "      <td>0.0</td>\n",
              "      <td>0.0</td>\n",
              "      <td>0.0</td>\n",
              "      <td>0.0</td>\n",
              "      <td>0.0</td>\n",
              "      <td>0.000000</td>\n",
              "      <td>0.0</td>\n",
              "      <td>0.0</td>\n",
              "      <td>0.0</td>\n",
              "      <td>0.0</td>\n",
              "      <td>0.0</td>\n",
              "      <td>0.0</td>\n",
              "      <td>0.0</td>\n",
              "      <td>0.0</td>\n",
              "      <td>0.0</td>\n",
              "      <td>0.0</td>\n",
              "      <td>1</td>\n",
              "    </tr>\n",
              "    <tr>\n",
              "      <th>1</th>\n",
              "      <td>0.0</td>\n",
              "      <td>0.000000</td>\n",
              "      <td>0.0</td>\n",
              "      <td>0.0</td>\n",
              "      <td>0.0</td>\n",
              "      <td>0.0</td>\n",
              "      <td>0.0</td>\n",
              "      <td>0.0</td>\n",
              "      <td>0.000000</td>\n",
              "      <td>0.0</td>\n",
              "      <td>0.0</td>\n",
              "      <td>0.0</td>\n",
              "      <td>0.0</td>\n",
              "      <td>0.0</td>\n",
              "      <td>0.00000</td>\n",
              "      <td>0.0</td>\n",
              "      <td>0.0</td>\n",
              "      <td>0.0</td>\n",
              "      <td>0.0</td>\n",
              "      <td>0.0</td>\n",
              "      <td>0.0</td>\n",
              "      <td>0.000000</td>\n",
              "      <td>0.0</td>\n",
              "      <td>0.0</td>\n",
              "      <td>0.0</td>\n",
              "      <td>0.0</td>\n",
              "      <td>0.0</td>\n",
              "      <td>0.0</td>\n",
              "      <td>0.0</td>\n",
              "      <td>0.0</td>\n",
              "      <td>0.0</td>\n",
              "      <td>0.0</td>\n",
              "      <td>0.0</td>\n",
              "      <td>0.0</td>\n",
              "      <td>0.0</td>\n",
              "      <td>0.0</td>\n",
              "      <td>0.0</td>\n",
              "      <td>0.0</td>\n",
              "      <td>0.0</td>\n",
              "      <td>0.0</td>\n",
              "      <td>...</td>\n",
              "      <td>0.0</td>\n",
              "      <td>0.0</td>\n",
              "      <td>0.0</td>\n",
              "      <td>0.0</td>\n",
              "      <td>0.0</td>\n",
              "      <td>0.0</td>\n",
              "      <td>0.0</td>\n",
              "      <td>0.0</td>\n",
              "      <td>0.0</td>\n",
              "      <td>0.0</td>\n",
              "      <td>0.0</td>\n",
              "      <td>0.0</td>\n",
              "      <td>0.0</td>\n",
              "      <td>0.0</td>\n",
              "      <td>0.000000</td>\n",
              "      <td>0.0</td>\n",
              "      <td>0.0</td>\n",
              "      <td>0.0</td>\n",
              "      <td>0.0</td>\n",
              "      <td>0.0</td>\n",
              "      <td>0.00000</td>\n",
              "      <td>0.0</td>\n",
              "      <td>0.0</td>\n",
              "      <td>0.0</td>\n",
              "      <td>0.0</td>\n",
              "      <td>0.0</td>\n",
              "      <td>0.0</td>\n",
              "      <td>0.0</td>\n",
              "      <td>0.000000</td>\n",
              "      <td>0.0</td>\n",
              "      <td>0.0</td>\n",
              "      <td>0.0</td>\n",
              "      <td>0.0</td>\n",
              "      <td>0.0</td>\n",
              "      <td>0.0</td>\n",
              "      <td>0.0</td>\n",
              "      <td>0.0</td>\n",
              "      <td>0.0</td>\n",
              "      <td>0.0</td>\n",
              "      <td>0</td>\n",
              "    </tr>\n",
              "    <tr>\n",
              "      <th>2</th>\n",
              "      <td>0.0</td>\n",
              "      <td>0.093011</td>\n",
              "      <td>0.0</td>\n",
              "      <td>0.0</td>\n",
              "      <td>0.0</td>\n",
              "      <td>0.0</td>\n",
              "      <td>0.0</td>\n",
              "      <td>0.0</td>\n",
              "      <td>0.000000</td>\n",
              "      <td>0.0</td>\n",
              "      <td>0.0</td>\n",
              "      <td>0.0</td>\n",
              "      <td>0.0</td>\n",
              "      <td>0.0</td>\n",
              "      <td>0.00000</td>\n",
              "      <td>0.0</td>\n",
              "      <td>0.0</td>\n",
              "      <td>0.0</td>\n",
              "      <td>0.0</td>\n",
              "      <td>0.0</td>\n",
              "      <td>0.0</td>\n",
              "      <td>0.141944</td>\n",
              "      <td>0.0</td>\n",
              "      <td>0.0</td>\n",
              "      <td>0.0</td>\n",
              "      <td>0.0</td>\n",
              "      <td>0.0</td>\n",
              "      <td>0.0</td>\n",
              "      <td>0.0</td>\n",
              "      <td>0.0</td>\n",
              "      <td>0.0</td>\n",
              "      <td>0.0</td>\n",
              "      <td>0.0</td>\n",
              "      <td>0.0</td>\n",
              "      <td>0.0</td>\n",
              "      <td>0.0</td>\n",
              "      <td>0.0</td>\n",
              "      <td>0.0</td>\n",
              "      <td>0.0</td>\n",
              "      <td>0.0</td>\n",
              "      <td>...</td>\n",
              "      <td>0.0</td>\n",
              "      <td>0.0</td>\n",
              "      <td>0.0</td>\n",
              "      <td>0.0</td>\n",
              "      <td>0.0</td>\n",
              "      <td>0.0</td>\n",
              "      <td>0.0</td>\n",
              "      <td>0.0</td>\n",
              "      <td>0.0</td>\n",
              "      <td>0.0</td>\n",
              "      <td>0.0</td>\n",
              "      <td>0.0</td>\n",
              "      <td>0.0</td>\n",
              "      <td>0.0</td>\n",
              "      <td>0.000000</td>\n",
              "      <td>0.0</td>\n",
              "      <td>0.0</td>\n",
              "      <td>0.0</td>\n",
              "      <td>0.0</td>\n",
              "      <td>0.0</td>\n",
              "      <td>0.00000</td>\n",
              "      <td>0.0</td>\n",
              "      <td>0.0</td>\n",
              "      <td>0.0</td>\n",
              "      <td>0.0</td>\n",
              "      <td>0.0</td>\n",
              "      <td>0.0</td>\n",
              "      <td>0.0</td>\n",
              "      <td>0.058527</td>\n",
              "      <td>0.0</td>\n",
              "      <td>0.0</td>\n",
              "      <td>0.0</td>\n",
              "      <td>0.0</td>\n",
              "      <td>0.0</td>\n",
              "      <td>0.0</td>\n",
              "      <td>0.0</td>\n",
              "      <td>0.0</td>\n",
              "      <td>0.0</td>\n",
              "      <td>0.0</td>\n",
              "      <td>1</td>\n",
              "    </tr>\n",
              "    <tr>\n",
              "      <th>3</th>\n",
              "      <td>0.0</td>\n",
              "      <td>0.000000</td>\n",
              "      <td>0.0</td>\n",
              "      <td>0.0</td>\n",
              "      <td>0.0</td>\n",
              "      <td>0.0</td>\n",
              "      <td>0.0</td>\n",
              "      <td>0.0</td>\n",
              "      <td>0.065399</td>\n",
              "      <td>0.0</td>\n",
              "      <td>0.0</td>\n",
              "      <td>0.0</td>\n",
              "      <td>0.0</td>\n",
              "      <td>0.0</td>\n",
              "      <td>0.00000</td>\n",
              "      <td>0.0</td>\n",
              "      <td>0.0</td>\n",
              "      <td>0.0</td>\n",
              "      <td>0.0</td>\n",
              "      <td>0.0</td>\n",
              "      <td>0.0</td>\n",
              "      <td>0.000000</td>\n",
              "      <td>0.0</td>\n",
              "      <td>0.0</td>\n",
              "      <td>0.0</td>\n",
              "      <td>0.0</td>\n",
              "      <td>0.0</td>\n",
              "      <td>0.0</td>\n",
              "      <td>0.0</td>\n",
              "      <td>0.0</td>\n",
              "      <td>0.0</td>\n",
              "      <td>0.0</td>\n",
              "      <td>0.0</td>\n",
              "      <td>0.0</td>\n",
              "      <td>0.0</td>\n",
              "      <td>0.0</td>\n",
              "      <td>0.0</td>\n",
              "      <td>0.0</td>\n",
              "      <td>0.0</td>\n",
              "      <td>0.0</td>\n",
              "      <td>...</td>\n",
              "      <td>0.0</td>\n",
              "      <td>0.0</td>\n",
              "      <td>0.0</td>\n",
              "      <td>0.0</td>\n",
              "      <td>0.0</td>\n",
              "      <td>0.0</td>\n",
              "      <td>0.0</td>\n",
              "      <td>0.0</td>\n",
              "      <td>0.0</td>\n",
              "      <td>0.0</td>\n",
              "      <td>0.0</td>\n",
              "      <td>0.0</td>\n",
              "      <td>0.0</td>\n",
              "      <td>0.0</td>\n",
              "      <td>0.000000</td>\n",
              "      <td>0.0</td>\n",
              "      <td>0.0</td>\n",
              "      <td>0.0</td>\n",
              "      <td>0.0</td>\n",
              "      <td>0.0</td>\n",
              "      <td>0.00000</td>\n",
              "      <td>0.0</td>\n",
              "      <td>0.0</td>\n",
              "      <td>0.0</td>\n",
              "      <td>0.0</td>\n",
              "      <td>0.0</td>\n",
              "      <td>0.0</td>\n",
              "      <td>0.0</td>\n",
              "      <td>0.081764</td>\n",
              "      <td>0.0</td>\n",
              "      <td>0.0</td>\n",
              "      <td>0.0</td>\n",
              "      <td>0.0</td>\n",
              "      <td>0.0</td>\n",
              "      <td>0.0</td>\n",
              "      <td>0.0</td>\n",
              "      <td>0.0</td>\n",
              "      <td>0.0</td>\n",
              "      <td>0.0</td>\n",
              "      <td>0</td>\n",
              "    </tr>\n",
              "    <tr>\n",
              "      <th>4</th>\n",
              "      <td>0.0</td>\n",
              "      <td>0.000000</td>\n",
              "      <td>0.0</td>\n",
              "      <td>0.0</td>\n",
              "      <td>0.0</td>\n",
              "      <td>0.0</td>\n",
              "      <td>0.0</td>\n",
              "      <td>0.0</td>\n",
              "      <td>0.263146</td>\n",
              "      <td>0.0</td>\n",
              "      <td>0.0</td>\n",
              "      <td>0.0</td>\n",
              "      <td>0.0</td>\n",
              "      <td>0.0</td>\n",
              "      <td>0.17753</td>\n",
              "      <td>0.0</td>\n",
              "      <td>0.0</td>\n",
              "      <td>0.0</td>\n",
              "      <td>0.0</td>\n",
              "      <td>0.0</td>\n",
              "      <td>0.0</td>\n",
              "      <td>0.000000</td>\n",
              "      <td>0.0</td>\n",
              "      <td>0.0</td>\n",
              "      <td>0.0</td>\n",
              "      <td>0.0</td>\n",
              "      <td>0.0</td>\n",
              "      <td>0.0</td>\n",
              "      <td>0.0</td>\n",
              "      <td>0.0</td>\n",
              "      <td>0.0</td>\n",
              "      <td>0.0</td>\n",
              "      <td>0.0</td>\n",
              "      <td>0.0</td>\n",
              "      <td>0.0</td>\n",
              "      <td>0.0</td>\n",
              "      <td>0.0</td>\n",
              "      <td>0.0</td>\n",
              "      <td>0.0</td>\n",
              "      <td>0.0</td>\n",
              "      <td>...</td>\n",
              "      <td>0.0</td>\n",
              "      <td>0.0</td>\n",
              "      <td>0.0</td>\n",
              "      <td>0.0</td>\n",
              "      <td>0.0</td>\n",
              "      <td>0.0</td>\n",
              "      <td>0.0</td>\n",
              "      <td>0.0</td>\n",
              "      <td>0.0</td>\n",
              "      <td>0.0</td>\n",
              "      <td>0.0</td>\n",
              "      <td>0.0</td>\n",
              "      <td>0.0</td>\n",
              "      <td>0.0</td>\n",
              "      <td>0.000000</td>\n",
              "      <td>0.0</td>\n",
              "      <td>0.0</td>\n",
              "      <td>0.0</td>\n",
              "      <td>0.0</td>\n",
              "      <td>0.0</td>\n",
              "      <td>0.21665</td>\n",
              "      <td>0.0</td>\n",
              "      <td>0.0</td>\n",
              "      <td>0.0</td>\n",
              "      <td>0.0</td>\n",
              "      <td>0.0</td>\n",
              "      <td>0.0</td>\n",
              "      <td>0.0</td>\n",
              "      <td>0.000000</td>\n",
              "      <td>0.0</td>\n",
              "      <td>0.0</td>\n",
              "      <td>0.0</td>\n",
              "      <td>0.0</td>\n",
              "      <td>0.0</td>\n",
              "      <td>0.0</td>\n",
              "      <td>0.0</td>\n",
              "      <td>0.0</td>\n",
              "      <td>0.0</td>\n",
              "      <td>0.0</td>\n",
              "      <td>3</td>\n",
              "    </tr>\n",
              "  </tbody>\n",
              "</table>\n",
              "<p>5 rows × 1001 columns</p>\n",
              "</div>"
            ],
            "text/plain": [
              "   ability      able  absolutely  accept  ...   xx  xxxx  year  Product\n",
              "0      0.0  0.000000         0.0     0.0  ...  0.0   0.0   0.0        1\n",
              "1      0.0  0.000000         0.0     0.0  ...  0.0   0.0   0.0        0\n",
              "2      0.0  0.093011         0.0     0.0  ...  0.0   0.0   0.0        1\n",
              "3      0.0  0.000000         0.0     0.0  ...  0.0   0.0   0.0        0\n",
              "4      0.0  0.000000         0.0     0.0  ...  0.0   0.0   0.0        3\n",
              "\n",
              "[5 rows x 1001 columns]"
            ]
          },
          "metadata": {
            "tags": []
          },
          "execution_count": 67
        }
      ]
    },
    {
      "cell_type": "code",
      "metadata": {
        "colab": {
          "base_uri": "https://localhost:8080/"
        },
        "id": "IrtHuUIveyXl",
        "outputId": "5a1b91f6-dc5a-45fa-9136-1400b2f8d5ca"
      },
      "source": [
        "tf_train_df.shape, tf_test_df.shape"
      ],
      "execution_count": 68,
      "outputs": [
        {
          "output_type": "execute_result",
          "data": {
            "text/plain": [
              "((40217, 1001), (17236, 1001))"
            ]
          },
          "metadata": {
            "tags": []
          },
          "execution_count": 68
        }
      ]
    },
    {
      "cell_type": "code",
      "metadata": {
        "colab": {
          "base_uri": "https://localhost:8080/"
        },
        "id": "nTxRq9vxfyJH",
        "outputId": "fad9460b-199d-4f70-870e-22d1451250e9"
      },
      "source": [
        "h2o_tf_train = h2o.H2OFrame(tf_train_df)\n",
        "h2o_tf_test = h2o.H2OFrame(tf_test_df)"
      ],
      "execution_count": 69,
      "outputs": [
        {
          "output_type": "stream",
          "text": [
            "Parse progress: |█████████████████████████████████████████████████████████| 100%\n",
            "Parse progress: |█████████████████████████████████████████████████████████| 100%\n"
          ],
          "name": "stdout"
        }
      ]
    },
    {
      "cell_type": "code",
      "metadata": {
        "id": "JtRJLLJWgBDT"
      },
      "source": [
        "# h2o_tf_train.types"
      ],
      "execution_count": 76,
      "outputs": []
    },
    {
      "cell_type": "code",
      "metadata": {
        "id": "co8Dt93pgH4R"
      },
      "source": [
        "h2o_tf_train['Product'] = h2o_tf_train['Product'].asfactor()\n",
        "h2o_tf_test['Product'] = h2o_tf_test['Product'].asfactor()"
      ],
      "execution_count": 77,
      "outputs": []
    },
    {
      "cell_type": "code",
      "metadata": {
        "colab": {
          "base_uri": "https://localhost:8080/"
        },
        "id": "Wm5Plf83geBR",
        "outputId": "4b975cbe-5ddb-4a66-c2a9-2cbd5b5f0b84"
      },
      "source": [
        "# Run AutoML for 20 base models (limited to 1 hour max runtime by default)\n",
        "aml = H2OAutoML(max_models = 10, seed = 42, exclude_algos = [\"StackedEnsemble\"], verbosity=\"info\", nfolds=0, balance_classes=True, max_after_balance_size=0.3)\n",
        "\n",
        "x = tf_vector.get_feature_names()\n",
        "y = 'Product'\n",
        "\n",
        "aml.train(x=x, y=y, training_frame=h2o_tf_train, validation_frame = h2o_tf_test)"
      ],
      "execution_count": 78,
      "outputs": [
        {
          "output_type": "stream",
          "text": [
            "AutoML progress: |\n",
            "12:42:59.140: Project: AutoML_20210711_124259137\n",
            "12:42:59.148: Cross-validation disabled by user: no fold column nor nfolds > 1.\n",
            "12:42:59.170: Setting stopping tolerance adaptively based on the training frame: 0.004986492434129795\n",
            "12:42:59.170: Build control seed: 42\n",
            "12:42:59.171: Since cross-validation is disabled, and no leaderboard frame was provided, automatically split the training data into training and leaderboard frames in the ratio 90/10\n",
            "12:43:02.445: training frame: Frame key: automl_training_py_4_sid_8651    cols: 1001    rows: 36147  chunks: 46    size: 28012631  checksum: -2415922231704389632\n",
            "12:43:02.449: validation frame: Frame key: py_5_sid_8651    cols: 1001    rows: 17236  chunks: 20    size: 13256006  checksum: 7755504522401484002\n",
            "12:43:02.636: leaderboard frame: Frame key: automl_leaderboard_py_4_sid_8651    cols: 1001    rows: 4070  chunks: 46    size: 6303136  checksum: -6913013970143652264\n",
            "12:43:02.636: blending frame: NULL\n",
            "12:43:02.636: response column: Product\n",
            "12:43:02.636: fold column: null\n",
            "12:43:02.636: weights column: null\n",
            "12:43:02.688: Loading execution steps: [{XGBoost : defaults}, {GLM : defaults}, {DRF : [def_1]}, {GBM : defaults}, {DeepLearning : defaults}, {DRF : [XRT]}, {XGBoost : grids}, {GBM : grids}, {DeepLearning : grids}, {GBM : [lr_annealing]}, {XGBoost : [lr_search]}, {StackedEnsemble : defaults}]\n",
            "12:43:02.702: Disabling Algo: StackedEnsemble as requested by the user.\n",
            "12:43:02.705: AutoML job created: 2021.07.11 12:42:59.137\n",
            "12:43:02.707: AutoML build started: 2021.07.11 12:43:02.706\n",
            "12:43:02.716: AutoML: starting XGBoost_1_AutoML_20210711_124259 model training\n",
            "\n",
            "██\n",
            "12:44:56.522: New leader: XGBoost_1_AutoML_20210711_124259, mean_per_class_error: 0.15785792516092031\n",
            "12:44:56.523: AutoML: starting XGBoost_2_AutoML_20210711_124259 model training\n",
            "\n",
            "██████████████████████\n",
            "12:47:44.904: New leader: XGBoost_2_AutoML_20210711_124259, mean_per_class_error: 0.15204591598154235\n",
            "12:47:44.904: AutoML: starting XGBoost_3_AutoML_20210711_124259 model training\n",
            "\n",
            "███████\n",
            "12:49:06.185: AutoML: starting GLM_1_AutoML_20210711_124259 model training\n",
            "\n",
            "████████████████\n",
            "12:55:19.290: AutoML: starting DRF_1_AutoML_20210711_124259 model training\n",
            "\n",
            "████████\n",
            "12:58:30.917: AutoML: starting GBM_1_AutoML_20210711_124259 model training\n",
            "13:10:00.131: AutoML: starting GBM_2_AutoML_20210711_124259 model training\n",
            "\n",
            "\n",
            "13:21:00.69: AutoML: starting GBM_3_AutoML_20210711_124259 model training\n",
            "\n",
            "\n",
            "13:30:56.948: AutoML: starting GBM_4_AutoML_20210711_124259 model training\n",
            "\n",
            "█\n",
            "13:46:54.48: AutoML: starting GBM_5_AutoML_20210711_124259 model training\n",
            "\n",
            "| 100%\n",
            "\n",
            "14:06:52.216: New leader: GBM_5_AutoML_20210711_124259, mean_per_class_error: 0.14901664370661968\n",
            "14:06:52.217: Skipping StackedEnsemble 'best' due to the exclude_algos option.\n",
            "14:06:52.221: Skipping StackedEnsemble 'all' due to the exclude_algos option.\n",
            "14:06:52.222: Skipping StackedEnsemble 'monotonic' due to the exclude_algos option.\n",
            "14:06:52.222: Actual modeling steps: [{XGBoost : [def_1 (10), def_2 (10), def_3 (10)]}, {GLM : [def_1 (10)]}, {DRF : [def_1 (10)]}, {GBM : [def_1 (10), def_2 (10), def_3 (10), def_4 (10), def_5 (10)]}]\n",
            "14:06:52.222: AutoML build stopped: 2021.07.11 14:06:52.222\n",
            "14:06:52.222: AutoML build done: built 10 models\n",
            "14:06:52.222: AutoML duration:  1:23:49.516\n",
            "\n"
          ],
          "name": "stdout"
        }
      ]
    },
    {
      "cell_type": "code",
      "metadata": {
        "colab": {
          "base_uri": "https://localhost:8080/",
          "height": 250
        },
        "id": "heUeY7Mwl3ld",
        "outputId": "f4d1e759-4d0b-4678-86a8-6edb204d8cbd"
      },
      "source": [
        "aml.leaderboard"
      ],
      "execution_count": 79,
      "outputs": [
        {
          "output_type": "display_data",
          "data": {
            "text/html": [
              "<table>\n",
              "<thead>\n",
              "<tr><th>model_id                        </th><th style=\"text-align: right;\">  mean_per_class_error</th><th style=\"text-align: right;\">  logloss</th><th style=\"text-align: right;\">    rmse</th><th style=\"text-align: right;\">      mse</th><th style=\"text-align: right;\">  auc</th><th style=\"text-align: right;\">  aucpr</th></tr>\n",
              "</thead>\n",
              "<tbody>\n",
              "<tr><td>GBM_5_AutoML_20210711_124259    </td><td style=\"text-align: right;\">              0.149017</td><td style=\"text-align: right;\"> 0.369373</td><td style=\"text-align: right;\">0.323876</td><td style=\"text-align: right;\">0.104896 </td><td style=\"text-align: right;\">  nan</td><td style=\"text-align: right;\">    nan</td></tr>\n",
              "<tr><td>XGBoost_2_AutoML_20210711_124259</td><td style=\"text-align: right;\">              0.152046</td><td style=\"text-align: right;\"> 0.329459</td><td style=\"text-align: right;\">0.311384</td><td style=\"text-align: right;\">0.0969601</td><td style=\"text-align: right;\">  nan</td><td style=\"text-align: right;\">    nan</td></tr>\n",
              "<tr><td>XGBoost_3_AutoML_20210711_124259</td><td style=\"text-align: right;\">              0.153011</td><td style=\"text-align: right;\"> 0.331835</td><td style=\"text-align: right;\">0.314375</td><td style=\"text-align: right;\">0.0988318</td><td style=\"text-align: right;\">  nan</td><td style=\"text-align: right;\">    nan</td></tr>\n",
              "<tr><td>XGBoost_1_AutoML_20210711_124259</td><td style=\"text-align: right;\">              0.157858</td><td style=\"text-align: right;\"> 0.327896</td><td style=\"text-align: right;\">0.310413</td><td style=\"text-align: right;\">0.096356 </td><td style=\"text-align: right;\">  nan</td><td style=\"text-align: right;\">    nan</td></tr>\n",
              "<tr><td>GBM_2_AutoML_20210711_124259    </td><td style=\"text-align: right;\">              0.158341</td><td style=\"text-align: right;\"> 0.386666</td><td style=\"text-align: right;\">0.338518</td><td style=\"text-align: right;\">0.114595 </td><td style=\"text-align: right;\">  nan</td><td style=\"text-align: right;\">    nan</td></tr>\n",
              "<tr><td>GBM_4_AutoML_20210711_124259    </td><td style=\"text-align: right;\">              0.159077</td><td style=\"text-align: right;\"> 0.389516</td><td style=\"text-align: right;\">0.336146</td><td style=\"text-align: right;\">0.112994 </td><td style=\"text-align: right;\">  nan</td><td style=\"text-align: right;\">    nan</td></tr>\n",
              "<tr><td>GBM_3_AutoML_20210711_124259    </td><td style=\"text-align: right;\">              0.160878</td><td style=\"text-align: right;\"> 0.393472</td><td style=\"text-align: right;\">0.341296</td><td style=\"text-align: right;\">0.116483 </td><td style=\"text-align: right;\">  nan</td><td style=\"text-align: right;\">    nan</td></tr>\n",
              "<tr><td>GBM_1_AutoML_20210711_124259    </td><td style=\"text-align: right;\">              0.169135</td><td style=\"text-align: right;\"> 0.405634</td><td style=\"text-align: right;\">0.347596</td><td style=\"text-align: right;\">0.120823 </td><td style=\"text-align: right;\">  nan</td><td style=\"text-align: right;\">    nan</td></tr>\n",
              "<tr><td>GLM_1_AutoML_20210711_124259    </td><td style=\"text-align: right;\">              0.17049 </td><td style=\"text-align: right;\"> 0.361802</td><td style=\"text-align: right;\">0.327813</td><td style=\"text-align: right;\">0.107462 </td><td style=\"text-align: right;\">  nan</td><td style=\"text-align: right;\">    nan</td></tr>\n",
              "<tr><td>DRF_1_AutoML_20210711_124259    </td><td style=\"text-align: right;\">              0.288368</td><td style=\"text-align: right;\"> 0.587832</td><td style=\"text-align: right;\">0.441757</td><td style=\"text-align: right;\">0.195149 </td><td style=\"text-align: right;\">  nan</td><td style=\"text-align: right;\">    nan</td></tr>\n",
              "</tbody>\n",
              "</table>"
            ]
          },
          "metadata": {
            "tags": []
          }
        },
        {
          "output_type": "execute_result",
          "data": {
            "text/plain": [
              ""
            ]
          },
          "metadata": {
            "tags": []
          },
          "execution_count": 79
        }
      ]
    },
    {
      "cell_type": "code",
      "metadata": {
        "colab": {
          "base_uri": "https://localhost:8080/"
        },
        "id": "1c-X60PX4be8",
        "outputId": "6c15ac83-39fa-446d-d7fd-6c99f8b3e0bb"
      },
      "source": [
        "pred = aml.predict(h2o_tf_test)"
      ],
      "execution_count": 80,
      "outputs": [
        {
          "output_type": "stream",
          "text": [
            "gbm prediction progress: |████████████████████████████████████████████████| 100%\n"
          ],
          "name": "stdout"
        }
      ]
    },
    {
      "cell_type": "code",
      "metadata": {
        "colab": {
          "base_uri": "https://localhost:8080/",
          "height": 776
        },
        "id": "W0TjCSS55tBo",
        "outputId": "4c76a0ff-7496-44c8-c433-44c0d1beee3b"
      },
      "source": [
        "aml.leader.model_performance(h2o_tf_test)"
      ],
      "execution_count": 81,
      "outputs": [
        {
          "output_type": "stream",
          "text": [
            "\n",
            "ModelMetricsMultinomial: gbm\n",
            "** Reported on test data. **\n",
            "\n",
            "MSE: 0.10929051304415581\n",
            "RMSE: 0.33059115693580765\n",
            "LogLoss: 0.3886913212669606\n",
            "Mean Per-Class Error: 0.1650764272248922\n",
            "AUC: NaN\n",
            "AUCPR: NaN\n",
            "Multinomial auc values: Table is not computed because it is disabled (model parameter 'auc_type' is set to AUTO or NONE) or due to domain size (maximum is 50 domains).\n",
            "Multinomial auc_pr values: Table is not computed because it is disabled (model parameter 'auc_type' is set to AUTO or NONE) or due to domain size (maximum is 50 domains).\n",
            "\n",
            "Confusion Matrix: Row labels: Actual class; Column labels: Predicted class\n"
          ],
          "name": "stdout"
        },
        {
          "output_type": "display_data",
          "data": {
            "text/html": [
              "<div>\n",
              "<style scoped>\n",
              "    .dataframe tbody tr th:only-of-type {\n",
              "        vertical-align: middle;\n",
              "    }\n",
              "\n",
              "    .dataframe tbody tr th {\n",
              "        vertical-align: top;\n",
              "    }\n",
              "\n",
              "    .dataframe thead th {\n",
              "        text-align: right;\n",
              "    }\n",
              "</style>\n",
              "<table border=\"1\" class=\"dataframe\">\n",
              "  <thead>\n",
              "    <tr style=\"text-align: right;\">\n",
              "      <th></th>\n",
              "      <th>0</th>\n",
              "      <th>1</th>\n",
              "      <th>2</th>\n",
              "      <th>3</th>\n",
              "      <th>4</th>\n",
              "      <th>5</th>\n",
              "      <th>Error</th>\n",
              "      <th>Rate</th>\n",
              "    </tr>\n",
              "  </thead>\n",
              "  <tbody>\n",
              "    <tr>\n",
              "      <th>0</th>\n",
              "      <td>5913.0</td>\n",
              "      <td>232.0</td>\n",
              "      <td>129.0</td>\n",
              "      <td>82.0</td>\n",
              "      <td>69.0</td>\n",
              "      <td>106.0</td>\n",
              "      <td>0.094626</td>\n",
              "      <td>618 / 6,531</td>\n",
              "    </tr>\n",
              "    <tr>\n",
              "      <th>1</th>\n",
              "      <td>282.0</td>\n",
              "      <td>3398.0</td>\n",
              "      <td>35.0</td>\n",
              "      <td>208.0</td>\n",
              "      <td>6.0</td>\n",
              "      <td>29.0</td>\n",
              "      <td>0.141486</td>\n",
              "      <td>560 / 3,958</td>\n",
              "    </tr>\n",
              "    <tr>\n",
              "      <th>2</th>\n",
              "      <td>102.0</td>\n",
              "      <td>49.0</td>\n",
              "      <td>2685.0</td>\n",
              "      <td>26.0</td>\n",
              "      <td>29.0</td>\n",
              "      <td>49.0</td>\n",
              "      <td>0.086735</td>\n",
              "      <td>255 / 2,940</td>\n",
              "    </tr>\n",
              "    <tr>\n",
              "      <th>3</th>\n",
              "      <td>65.0</td>\n",
              "      <td>222.0</td>\n",
              "      <td>25.0</td>\n",
              "      <td>1777.0</td>\n",
              "      <td>2.0</td>\n",
              "      <td>10.0</td>\n",
              "      <td>0.154212</td>\n",
              "      <td>324 / 2,101</td>\n",
              "    </tr>\n",
              "    <tr>\n",
              "      <th>4</th>\n",
              "      <td>67.0</td>\n",
              "      <td>27.0</td>\n",
              "      <td>33.0</td>\n",
              "      <td>2.0</td>\n",
              "      <td>726.0</td>\n",
              "      <td>30.0</td>\n",
              "      <td>0.179661</td>\n",
              "      <td>159 / 885</td>\n",
              "    </tr>\n",
              "    <tr>\n",
              "      <th>5</th>\n",
              "      <td>145.0</td>\n",
              "      <td>70.0</td>\n",
              "      <td>31.0</td>\n",
              "      <td>12.0</td>\n",
              "      <td>16.0</td>\n",
              "      <td>547.0</td>\n",
              "      <td>0.333739</td>\n",
              "      <td>274 / 821</td>\n",
              "    </tr>\n",
              "    <tr>\n",
              "      <th>6</th>\n",
              "      <td>6574.0</td>\n",
              "      <td>3998.0</td>\n",
              "      <td>2938.0</td>\n",
              "      <td>2107.0</td>\n",
              "      <td>848.0</td>\n",
              "      <td>771.0</td>\n",
              "      <td>0.127060</td>\n",
              "      <td>2,190 / 17,236</td>\n",
              "    </tr>\n",
              "  </tbody>\n",
              "</table>\n",
              "</div>"
            ],
            "text/plain": [
              "        0       1       2       3      4      5     Error            Rate\n",
              "0  5913.0   232.0   129.0    82.0   69.0  106.0  0.094626     618 / 6,531\n",
              "1   282.0  3398.0    35.0   208.0    6.0   29.0  0.141486     560 / 3,958\n",
              "2   102.0    49.0  2685.0    26.0   29.0   49.0  0.086735     255 / 2,940\n",
              "3    65.0   222.0    25.0  1777.0    2.0   10.0  0.154212     324 / 2,101\n",
              "4    67.0    27.0    33.0     2.0  726.0   30.0  0.179661       159 / 885\n",
              "5   145.0    70.0    31.0    12.0   16.0  547.0  0.333739       274 / 821\n",
              "6  6574.0  3998.0  2938.0  2107.0  848.0  771.0  0.127060  2,190 / 17,236"
            ]
          },
          "metadata": {
            "tags": []
          }
        },
        {
          "output_type": "stream",
          "text": [
            "\n",
            "Top-6 Hit Ratios: \n"
          ],
          "name": "stdout"
        },
        {
          "output_type": "display_data",
          "data": {
            "text/html": [
              "<div>\n",
              "<style scoped>\n",
              "    .dataframe tbody tr th:only-of-type {\n",
              "        vertical-align: middle;\n",
              "    }\n",
              "\n",
              "    .dataframe tbody tr th {\n",
              "        vertical-align: top;\n",
              "    }\n",
              "\n",
              "    .dataframe thead th {\n",
              "        text-align: right;\n",
              "    }\n",
              "</style>\n",
              "<table border=\"1\" class=\"dataframe\">\n",
              "  <thead>\n",
              "    <tr style=\"text-align: right;\">\n",
              "      <th></th>\n",
              "      <th>k</th>\n",
              "      <th>hit_ratio</th>\n",
              "    </tr>\n",
              "  </thead>\n",
              "  <tbody>\n",
              "    <tr>\n",
              "      <th>0</th>\n",
              "      <td>1</td>\n",
              "      <td>0.872940</td>\n",
              "    </tr>\n",
              "    <tr>\n",
              "      <th>1</th>\n",
              "      <td>2</td>\n",
              "      <td>0.954862</td>\n",
              "    </tr>\n",
              "    <tr>\n",
              "      <th>2</th>\n",
              "      <td>3</td>\n",
              "      <td>0.980622</td>\n",
              "    </tr>\n",
              "    <tr>\n",
              "      <th>3</th>\n",
              "      <td>4</td>\n",
              "      <td>0.991877</td>\n",
              "    </tr>\n",
              "    <tr>\n",
              "      <th>4</th>\n",
              "      <td>5</td>\n",
              "      <td>0.997911</td>\n",
              "    </tr>\n",
              "    <tr>\n",
              "      <th>5</th>\n",
              "      <td>6</td>\n",
              "      <td>1.000000</td>\n",
              "    </tr>\n",
              "  </tbody>\n",
              "</table>\n",
              "</div>"
            ],
            "text/plain": [
              "   k  hit_ratio\n",
              "0  1   0.872940\n",
              "1  2   0.954862\n",
              "2  3   0.980622\n",
              "3  4   0.991877\n",
              "4  5   0.997911\n",
              "5  6   1.000000"
            ]
          },
          "metadata": {
            "tags": []
          }
        },
        {
          "output_type": "execute_result",
          "data": {
            "text/plain": [
              ""
            ]
          },
          "metadata": {
            "tags": []
          },
          "execution_count": 81
        }
      ]
    },
    {
      "cell_type": "code",
      "metadata": {
        "id": "kgE69LEe50g4"
      },
      "source": [
        ""
      ],
      "execution_count": 88,
      "outputs": []
    },
    {
      "cell_type": "code",
      "metadata": {
        "id": "ESe2MxMm8jX0"
      },
      "source": [
        "## Trying XGBoost_2_AutoML_20210711_124259\tas all the loss values are less compared to GBM Model."
      ],
      "execution_count": 88,
      "outputs": []
    },
    {
      "cell_type": "code",
      "metadata": {
        "id": "C_iAqbJI6lnE"
      },
      "source": [
        "model_ids = list(aml.leaderboard['model_id'].as_data_frame().iloc[:,0])\n",
        "out = h2o.get_model([model_id for model_id in model_ids if 'XGBoost' in model_id][0])"
      ],
      "execution_count": 89,
      "outputs": []
    },
    {
      "cell_type": "code",
      "metadata": {
        "colab": {
          "base_uri": "https://localhost:8080/",
          "height": 1000
        },
        "id": "yOyxaTRi7UiK",
        "outputId": "8900da0b-59c9-456e-b6e1-2417c2d8f536"
      },
      "source": [
        "out"
      ],
      "execution_count": 90,
      "outputs": [
        {
          "output_type": "stream",
          "text": [
            "Model Details\n",
            "=============\n",
            "H2OXGBoostEstimator :  XGBoost\n",
            "Model Key:  XGBoost_2_AutoML_20210711_124259\n",
            "\n",
            "\n",
            "Model Summary: \n"
          ],
          "name": "stdout"
        },
        {
          "output_type": "display_data",
          "data": {
            "text/html": [
              "<div>\n",
              "<style scoped>\n",
              "    .dataframe tbody tr th:only-of-type {\n",
              "        vertical-align: middle;\n",
              "    }\n",
              "\n",
              "    .dataframe tbody tr th {\n",
              "        vertical-align: top;\n",
              "    }\n",
              "\n",
              "    .dataframe thead th {\n",
              "        text-align: right;\n",
              "    }\n",
              "</style>\n",
              "<table border=\"1\" class=\"dataframe\">\n",
              "  <thead>\n",
              "    <tr style=\"text-align: right;\">\n",
              "      <th></th>\n",
              "      <th></th>\n",
              "      <th>number_of_trees</th>\n",
              "    </tr>\n",
              "  </thead>\n",
              "  <tbody>\n",
              "    <tr>\n",
              "      <th>0</th>\n",
              "      <td></td>\n",
              "      <td>50.0</td>\n",
              "    </tr>\n",
              "  </tbody>\n",
              "</table>\n",
              "</div>"
            ],
            "text/plain": [
              "     number_of_trees\n",
              "0               50.0"
            ]
          },
          "metadata": {
            "tags": []
          }
        },
        {
          "output_type": "stream",
          "text": [
            "\n",
            "\n",
            "ModelMetricsMultinomial: xgboost\n",
            "** Reported on train data. **\n",
            "\n",
            "MSE: 0.04109224516850605\n",
            "RMSE: 0.2027122225434521\n",
            "LogLoss: 0.14759436406684417\n",
            "Mean Per-Class Error: 0.05200745605987877\n",
            "AUC: NaN\n",
            "AUCPR: NaN\n",
            "Multinomial auc values: Table is not computed because it is disabled (model parameter 'auc_type' is set to AUTO or NONE) or due to domain size (maximum is 50 domains).\n",
            "Multinomial auc_pr values: Table is not computed because it is disabled (model parameter 'auc_type' is set to AUTO or NONE) or due to domain size (maximum is 50 domains).\n",
            "\n",
            "Confusion Matrix: Row labels: Actual class; Column labels: Predicted class\n"
          ],
          "name": "stdout"
        },
        {
          "output_type": "display_data",
          "data": {
            "text/html": [
              "<div>\n",
              "<style scoped>\n",
              "    .dataframe tbody tr th:only-of-type {\n",
              "        vertical-align: middle;\n",
              "    }\n",
              "\n",
              "    .dataframe tbody tr th {\n",
              "        vertical-align: top;\n",
              "    }\n",
              "\n",
              "    .dataframe thead th {\n",
              "        text-align: right;\n",
              "    }\n",
              "</style>\n",
              "<table border=\"1\" class=\"dataframe\">\n",
              "  <thead>\n",
              "    <tr style=\"text-align: right;\">\n",
              "      <th></th>\n",
              "      <th>0</th>\n",
              "      <th>1</th>\n",
              "      <th>2</th>\n",
              "      <th>3</th>\n",
              "      <th>4</th>\n",
              "      <th>5</th>\n",
              "      <th>Error</th>\n",
              "      <th>Rate</th>\n",
              "    </tr>\n",
              "  </thead>\n",
              "  <tbody>\n",
              "    <tr>\n",
              "      <th>0</th>\n",
              "      <td>13314.0</td>\n",
              "      <td>170.0</td>\n",
              "      <td>60.0</td>\n",
              "      <td>45.0</td>\n",
              "      <td>27.0</td>\n",
              "      <td>35.0</td>\n",
              "      <td>0.024687</td>\n",
              "      <td>337 / 13,651</td>\n",
              "    </tr>\n",
              "    <tr>\n",
              "      <th>1</th>\n",
              "      <td>253.0</td>\n",
              "      <td>7959.0</td>\n",
              "      <td>9.0</td>\n",
              "      <td>65.0</td>\n",
              "      <td>3.0</td>\n",
              "      <td>9.0</td>\n",
              "      <td>0.040853</td>\n",
              "      <td>339 / 8,298</td>\n",
              "    </tr>\n",
              "    <tr>\n",
              "      <th>2</th>\n",
              "      <td>83.0</td>\n",
              "      <td>47.0</td>\n",
              "      <td>6043.0</td>\n",
              "      <td>16.0</td>\n",
              "      <td>1.0</td>\n",
              "      <td>8.0</td>\n",
              "      <td>0.025008</td>\n",
              "      <td>155 / 6,198</td>\n",
              "    </tr>\n",
              "    <tr>\n",
              "      <th>3</th>\n",
              "      <td>76.0</td>\n",
              "      <td>86.0</td>\n",
              "      <td>7.0</td>\n",
              "      <td>4249.0</td>\n",
              "      <td>0.0</td>\n",
              "      <td>6.0</td>\n",
              "      <td>0.039557</td>\n",
              "      <td>175 / 4,424</td>\n",
              "    </tr>\n",
              "    <tr>\n",
              "      <th>4</th>\n",
              "      <td>68.0</td>\n",
              "      <td>47.0</td>\n",
              "      <td>9.0</td>\n",
              "      <td>1.0</td>\n",
              "      <td>1735.0</td>\n",
              "      <td>4.0</td>\n",
              "      <td>0.069206</td>\n",
              "      <td>129 / 1,864</td>\n",
              "    </tr>\n",
              "    <tr>\n",
              "      <th>5</th>\n",
              "      <td>107.0</td>\n",
              "      <td>62.0</td>\n",
              "      <td>14.0</td>\n",
              "      <td>7.0</td>\n",
              "      <td>3.0</td>\n",
              "      <td>1519.0</td>\n",
              "      <td>0.112734</td>\n",
              "      <td>193 / 1,712</td>\n",
              "    </tr>\n",
              "    <tr>\n",
              "      <th>6</th>\n",
              "      <td>13901.0</td>\n",
              "      <td>8371.0</td>\n",
              "      <td>6142.0</td>\n",
              "      <td>4383.0</td>\n",
              "      <td>1769.0</td>\n",
              "      <td>1581.0</td>\n",
              "      <td>0.036739</td>\n",
              "      <td>1,328 / 36,147</td>\n",
              "    </tr>\n",
              "  </tbody>\n",
              "</table>\n",
              "</div>"
            ],
            "text/plain": [
              "         0       1       2       3       4       5     Error            Rate\n",
              "0  13314.0   170.0    60.0    45.0    27.0    35.0  0.024687    337 / 13,651\n",
              "1    253.0  7959.0     9.0    65.0     3.0     9.0  0.040853     339 / 8,298\n",
              "2     83.0    47.0  6043.0    16.0     1.0     8.0  0.025008     155 / 6,198\n",
              "3     76.0    86.0     7.0  4249.0     0.0     6.0  0.039557     175 / 4,424\n",
              "4     68.0    47.0     9.0     1.0  1735.0     4.0  0.069206     129 / 1,864\n",
              "5    107.0    62.0    14.0     7.0     3.0  1519.0  0.112734     193 / 1,712\n",
              "6  13901.0  8371.0  6142.0  4383.0  1769.0  1581.0  0.036739  1,328 / 36,147"
            ]
          },
          "metadata": {
            "tags": []
          }
        },
        {
          "output_type": "stream",
          "text": [
            "\n",
            "Top-6 Hit Ratios: \n"
          ],
          "name": "stdout"
        },
        {
          "output_type": "display_data",
          "data": {
            "text/html": [
              "<div>\n",
              "<style scoped>\n",
              "    .dataframe tbody tr th:only-of-type {\n",
              "        vertical-align: middle;\n",
              "    }\n",
              "\n",
              "    .dataframe tbody tr th {\n",
              "        vertical-align: top;\n",
              "    }\n",
              "\n",
              "    .dataframe thead th {\n",
              "        text-align: right;\n",
              "    }\n",
              "</style>\n",
              "<table border=\"1\" class=\"dataframe\">\n",
              "  <thead>\n",
              "    <tr style=\"text-align: right;\">\n",
              "      <th></th>\n",
              "      <th>k</th>\n",
              "      <th>hit_ratio</th>\n",
              "    </tr>\n",
              "  </thead>\n",
              "  <tbody>\n",
              "    <tr>\n",
              "      <th>0</th>\n",
              "      <td>1</td>\n",
              "      <td>0.963261</td>\n",
              "    </tr>\n",
              "    <tr>\n",
              "      <th>1</th>\n",
              "      <td>2</td>\n",
              "      <td>0.990705</td>\n",
              "    </tr>\n",
              "    <tr>\n",
              "      <th>2</th>\n",
              "      <td>3</td>\n",
              "      <td>0.996763</td>\n",
              "    </tr>\n",
              "    <tr>\n",
              "      <th>3</th>\n",
              "      <td>4</td>\n",
              "      <td>0.999115</td>\n",
              "    </tr>\n",
              "    <tr>\n",
              "      <th>4</th>\n",
              "      <td>5</td>\n",
              "      <td>0.999834</td>\n",
              "    </tr>\n",
              "    <tr>\n",
              "      <th>5</th>\n",
              "      <td>6</td>\n",
              "      <td>1.000000</td>\n",
              "    </tr>\n",
              "  </tbody>\n",
              "</table>\n",
              "</div>"
            ],
            "text/plain": [
              "   k  hit_ratio\n",
              "0  1   0.963261\n",
              "1  2   0.990705\n",
              "2  3   0.996763\n",
              "3  4   0.999115\n",
              "4  5   0.999834\n",
              "5  6   1.000000"
            ]
          },
          "metadata": {
            "tags": []
          }
        },
        {
          "output_type": "stream",
          "text": [
            "\n",
            "ModelMetricsMultinomial: xgboost\n",
            "** Reported on validation data. **\n",
            "\n",
            "MSE: 0.10038220394378135\n",
            "RMSE: 0.3168315071828895\n",
            "LogLoss: 0.34603587038642436\n",
            "Mean Per-Class Error: 0.16877223174583275\n",
            "AUC: NaN\n",
            "AUCPR: NaN\n",
            "Multinomial auc values: Table is not computed because it is disabled (model parameter 'auc_type' is set to AUTO or NONE) or due to domain size (maximum is 50 domains).\n",
            "Multinomial auc_pr values: Table is not computed because it is disabled (model parameter 'auc_type' is set to AUTO or NONE) or due to domain size (maximum is 50 domains).\n",
            "\n",
            "Confusion Matrix: Row labels: Actual class; Column labels: Predicted class\n"
          ],
          "name": "stdout"
        },
        {
          "output_type": "display_data",
          "data": {
            "text/html": [
              "<div>\n",
              "<style scoped>\n",
              "    .dataframe tbody tr th:only-of-type {\n",
              "        vertical-align: middle;\n",
              "    }\n",
              "\n",
              "    .dataframe tbody tr th {\n",
              "        vertical-align: top;\n",
              "    }\n",
              "\n",
              "    .dataframe thead th {\n",
              "        text-align: right;\n",
              "    }\n",
              "</style>\n",
              "<table border=\"1\" class=\"dataframe\">\n",
              "  <thead>\n",
              "    <tr style=\"text-align: right;\">\n",
              "      <th></th>\n",
              "      <th>0</th>\n",
              "      <th>1</th>\n",
              "      <th>2</th>\n",
              "      <th>3</th>\n",
              "      <th>4</th>\n",
              "      <th>5</th>\n",
              "      <th>Error</th>\n",
              "      <th>Rate</th>\n",
              "    </tr>\n",
              "  </thead>\n",
              "  <tbody>\n",
              "    <tr>\n",
              "      <th>0</th>\n",
              "      <td>6035.0</td>\n",
              "      <td>208.0</td>\n",
              "      <td>108.0</td>\n",
              "      <td>55.0</td>\n",
              "      <td>52.0</td>\n",
              "      <td>73.0</td>\n",
              "      <td>0.075945</td>\n",
              "      <td>496 / 6,531</td>\n",
              "    </tr>\n",
              "    <tr>\n",
              "      <th>1</th>\n",
              "      <td>262.0</td>\n",
              "      <td>3482.0</td>\n",
              "      <td>19.0</td>\n",
              "      <td>166.0</td>\n",
              "      <td>6.0</td>\n",
              "      <td>23.0</td>\n",
              "      <td>0.120263</td>\n",
              "      <td>476 / 3,958</td>\n",
              "    </tr>\n",
              "    <tr>\n",
              "      <th>2</th>\n",
              "      <td>95.0</td>\n",
              "      <td>47.0</td>\n",
              "      <td>2720.0</td>\n",
              "      <td>21.0</td>\n",
              "      <td>23.0</td>\n",
              "      <td>34.0</td>\n",
              "      <td>0.074830</td>\n",
              "      <td>220 / 2,940</td>\n",
              "    </tr>\n",
              "    <tr>\n",
              "      <th>3</th>\n",
              "      <td>78.0</td>\n",
              "      <td>217.0</td>\n",
              "      <td>26.0</td>\n",
              "      <td>1769.0</td>\n",
              "      <td>4.0</td>\n",
              "      <td>7.0</td>\n",
              "      <td>0.158020</td>\n",
              "      <td>332 / 2,101</td>\n",
              "    </tr>\n",
              "    <tr>\n",
              "      <th>4</th>\n",
              "      <td>94.0</td>\n",
              "      <td>26.0</td>\n",
              "      <td>45.0</td>\n",
              "      <td>3.0</td>\n",
              "      <td>693.0</td>\n",
              "      <td>24.0</td>\n",
              "      <td>0.216949</td>\n",
              "      <td>192 / 885</td>\n",
              "    </tr>\n",
              "    <tr>\n",
              "      <th>5</th>\n",
              "      <td>169.0</td>\n",
              "      <td>72.0</td>\n",
              "      <td>34.0</td>\n",
              "      <td>11.0</td>\n",
              "      <td>15.0</td>\n",
              "      <td>520.0</td>\n",
              "      <td>0.366626</td>\n",
              "      <td>301 / 821</td>\n",
              "    </tr>\n",
              "    <tr>\n",
              "      <th>6</th>\n",
              "      <td>6733.0</td>\n",
              "      <td>4052.0</td>\n",
              "      <td>2952.0</td>\n",
              "      <td>2025.0</td>\n",
              "      <td>793.0</td>\n",
              "      <td>681.0</td>\n",
              "      <td>0.117023</td>\n",
              "      <td>2,017 / 17,236</td>\n",
              "    </tr>\n",
              "  </tbody>\n",
              "</table>\n",
              "</div>"
            ],
            "text/plain": [
              "        0       1       2       3      4      5     Error            Rate\n",
              "0  6035.0   208.0   108.0    55.0   52.0   73.0  0.075945     496 / 6,531\n",
              "1   262.0  3482.0    19.0   166.0    6.0   23.0  0.120263     476 / 3,958\n",
              "2    95.0    47.0  2720.0    21.0   23.0   34.0  0.074830     220 / 2,940\n",
              "3    78.0   217.0    26.0  1769.0    4.0    7.0  0.158020     332 / 2,101\n",
              "4    94.0    26.0    45.0     3.0  693.0   24.0  0.216949       192 / 885\n",
              "5   169.0    72.0    34.0    11.0   15.0  520.0  0.366626       301 / 821\n",
              "6  6733.0  4052.0  2952.0  2025.0  793.0  681.0  0.117023  2,017 / 17,236"
            ]
          },
          "metadata": {
            "tags": []
          }
        },
        {
          "output_type": "stream",
          "text": [
            "\n",
            "Top-6 Hit Ratios: \n"
          ],
          "name": "stdout"
        },
        {
          "output_type": "display_data",
          "data": {
            "text/html": [
              "<div>\n",
              "<style scoped>\n",
              "    .dataframe tbody tr th:only-of-type {\n",
              "        vertical-align: middle;\n",
              "    }\n",
              "\n",
              "    .dataframe tbody tr th {\n",
              "        vertical-align: top;\n",
              "    }\n",
              "\n",
              "    .dataframe thead th {\n",
              "        text-align: right;\n",
              "    }\n",
              "</style>\n",
              "<table border=\"1\" class=\"dataframe\">\n",
              "  <thead>\n",
              "    <tr style=\"text-align: right;\">\n",
              "      <th></th>\n",
              "      <th>k</th>\n",
              "      <th>hit_ratio</th>\n",
              "    </tr>\n",
              "  </thead>\n",
              "  <tbody>\n",
              "    <tr>\n",
              "      <th>0</th>\n",
              "      <td>1</td>\n",
              "      <td>0.882977</td>\n",
              "    </tr>\n",
              "    <tr>\n",
              "      <th>1</th>\n",
              "      <td>2</td>\n",
              "      <td>0.963565</td>\n",
              "    </tr>\n",
              "    <tr>\n",
              "      <th>2</th>\n",
              "      <td>3</td>\n",
              "      <td>0.983407</td>\n",
              "    </tr>\n",
              "    <tr>\n",
              "      <th>3</th>\n",
              "      <td>4</td>\n",
              "      <td>0.993154</td>\n",
              "    </tr>\n",
              "    <tr>\n",
              "      <th>4</th>\n",
              "      <td>5</td>\n",
              "      <td>0.998027</td>\n",
              "    </tr>\n",
              "    <tr>\n",
              "      <th>5</th>\n",
              "      <td>6</td>\n",
              "      <td>1.000000</td>\n",
              "    </tr>\n",
              "  </tbody>\n",
              "</table>\n",
              "</div>"
            ],
            "text/plain": [
              "   k  hit_ratio\n",
              "0  1   0.882977\n",
              "1  2   0.963565\n",
              "2  3   0.983407\n",
              "3  4   0.993154\n",
              "4  5   0.998027\n",
              "5  6   1.000000"
            ]
          },
          "metadata": {
            "tags": []
          }
        },
        {
          "output_type": "stream",
          "text": [
            "\n",
            "Scoring History: \n"
          ],
          "name": "stdout"
        },
        {
          "output_type": "display_data",
          "data": {
            "text/html": [
              "<div>\n",
              "<style scoped>\n",
              "    .dataframe tbody tr th:only-of-type {\n",
              "        vertical-align: middle;\n",
              "    }\n",
              "\n",
              "    .dataframe tbody tr th {\n",
              "        vertical-align: top;\n",
              "    }\n",
              "\n",
              "    .dataframe thead th {\n",
              "        text-align: right;\n",
              "    }\n",
              "</style>\n",
              "<table border=\"1\" class=\"dataframe\">\n",
              "  <thead>\n",
              "    <tr style=\"text-align: right;\">\n",
              "      <th></th>\n",
              "      <th></th>\n",
              "      <th>timestamp</th>\n",
              "      <th>duration</th>\n",
              "      <th>number_of_trees</th>\n",
              "      <th>training_rmse</th>\n",
              "      <th>training_logloss</th>\n",
              "      <th>training_classification_error</th>\n",
              "      <th>training_auc</th>\n",
              "      <th>training_pr_auc</th>\n",
              "      <th>validation_rmse</th>\n",
              "      <th>validation_logloss</th>\n",
              "      <th>validation_classification_error</th>\n",
              "      <th>validation_auc</th>\n",
              "      <th>validation_pr_auc</th>\n",
              "    </tr>\n",
              "  </thead>\n",
              "  <tbody>\n",
              "    <tr>\n",
              "      <th>0</th>\n",
              "      <td></td>\n",
              "      <td>2021-07-11 12:44:56</td>\n",
              "      <td>0.018 sec</td>\n",
              "      <td>0.0</td>\n",
              "      <td>0.833333</td>\n",
              "      <td>1.791759</td>\n",
              "      <td>0.828533</td>\n",
              "      <td>NaN</td>\n",
              "      <td>NaN</td>\n",
              "      <td>0.833333</td>\n",
              "      <td>1.791759</td>\n",
              "      <td>0.829427</td>\n",
              "      <td>NaN</td>\n",
              "      <td>NaN</td>\n",
              "    </tr>\n",
              "    <tr>\n",
              "      <th>1</th>\n",
              "      <td></td>\n",
              "      <td>2021-07-11 12:45:17</td>\n",
              "      <td>20.491 sec</td>\n",
              "      <td>5.0</td>\n",
              "      <td>0.449566</td>\n",
              "      <td>0.610589</td>\n",
              "      <td>0.117575</td>\n",
              "      <td>NaN</td>\n",
              "      <td>NaN</td>\n",
              "      <td>0.466479</td>\n",
              "      <td>0.654298</td>\n",
              "      <td>0.142028</td>\n",
              "      <td>NaN</td>\n",
              "      <td>NaN</td>\n",
              "    </tr>\n",
              "    <tr>\n",
              "      <th>2</th>\n",
              "      <td></td>\n",
              "      <td>2021-07-11 12:45:32</td>\n",
              "      <td>35.638 sec</td>\n",
              "      <td>10.0</td>\n",
              "      <td>0.341137</td>\n",
              "      <td>0.383664</td>\n",
              "      <td>0.097352</td>\n",
              "      <td>NaN</td>\n",
              "      <td>NaN</td>\n",
              "      <td>0.377356</td>\n",
              "      <td>0.462330</td>\n",
              "      <td>0.132977</td>\n",
              "      <td>NaN</td>\n",
              "      <td>NaN</td>\n",
              "    </tr>\n",
              "    <tr>\n",
              "      <th>3</th>\n",
              "      <td></td>\n",
              "      <td>2021-07-11 12:45:45</td>\n",
              "      <td>49.405 sec</td>\n",
              "      <td>15.0</td>\n",
              "      <td>0.296399</td>\n",
              "      <td>0.293881</td>\n",
              "      <td>0.082192</td>\n",
              "      <td>NaN</td>\n",
              "      <td>NaN</td>\n",
              "      <td>0.348238</td>\n",
              "      <td>0.399412</td>\n",
              "      <td>0.126363</td>\n",
              "      <td>NaN</td>\n",
              "      <td>NaN</td>\n",
              "    </tr>\n",
              "    <tr>\n",
              "      <th>4</th>\n",
              "      <td></td>\n",
              "      <td>2021-07-11 12:45:59</td>\n",
              "      <td>1 min  3.285 sec</td>\n",
              "      <td>20.0</td>\n",
              "      <td>0.271743</td>\n",
              "      <td>0.248868</td>\n",
              "      <td>0.070435</td>\n",
              "      <td>NaN</td>\n",
              "      <td>NaN</td>\n",
              "      <td>0.334914</td>\n",
              "      <td>0.373233</td>\n",
              "      <td>0.120910</td>\n",
              "      <td>NaN</td>\n",
              "      <td>NaN</td>\n",
              "    </tr>\n",
              "    <tr>\n",
              "      <th>5</th>\n",
              "      <td></td>\n",
              "      <td>2021-07-11 12:46:14</td>\n",
              "      <td>1 min 18.188 sec</td>\n",
              "      <td>25.0</td>\n",
              "      <td>0.254126</td>\n",
              "      <td>0.219317</td>\n",
              "      <td>0.062190</td>\n",
              "      <td>NaN</td>\n",
              "      <td>NaN</td>\n",
              "      <td>0.327603</td>\n",
              "      <td>0.360021</td>\n",
              "      <td>0.119111</td>\n",
              "      <td>NaN</td>\n",
              "      <td>NaN</td>\n",
              "    </tr>\n",
              "    <tr>\n",
              "      <th>6</th>\n",
              "      <td></td>\n",
              "      <td>2021-07-11 12:46:30</td>\n",
              "      <td>1 min 33.629 sec</td>\n",
              "      <td>30.0</td>\n",
              "      <td>0.240414</td>\n",
              "      <td>0.198289</td>\n",
              "      <td>0.055274</td>\n",
              "      <td>NaN</td>\n",
              "      <td>NaN</td>\n",
              "      <td>0.323187</td>\n",
              "      <td>0.352839</td>\n",
              "      <td>0.117197</td>\n",
              "      <td>NaN</td>\n",
              "      <td>NaN</td>\n",
              "    </tr>\n",
              "    <tr>\n",
              "      <th>7</th>\n",
              "      <td></td>\n",
              "      <td>2021-07-11 12:46:47</td>\n",
              "      <td>1 min 50.814 sec</td>\n",
              "      <td>35.0</td>\n",
              "      <td>0.228831</td>\n",
              "      <td>0.181788</td>\n",
              "      <td>0.049575</td>\n",
              "      <td>NaN</td>\n",
              "      <td>NaN</td>\n",
              "      <td>0.320739</td>\n",
              "      <td>0.349915</td>\n",
              "      <td>0.116964</td>\n",
              "      <td>NaN</td>\n",
              "      <td>NaN</td>\n",
              "    </tr>\n",
              "    <tr>\n",
              "      <th>8</th>\n",
              "      <td></td>\n",
              "      <td>2021-07-11 12:47:03</td>\n",
              "      <td>2 min  6.847 sec</td>\n",
              "      <td>40.0</td>\n",
              "      <td>0.218883</td>\n",
              "      <td>0.168451</td>\n",
              "      <td>0.044319</td>\n",
              "      <td>NaN</td>\n",
              "      <td>NaN</td>\n",
              "      <td>0.319022</td>\n",
              "      <td>0.347575</td>\n",
              "      <td>0.117197</td>\n",
              "      <td>NaN</td>\n",
              "      <td>NaN</td>\n",
              "    </tr>\n",
              "    <tr>\n",
              "      <th>9</th>\n",
              "      <td></td>\n",
              "      <td>2021-07-11 12:47:19</td>\n",
              "      <td>2 min 23.178 sec</td>\n",
              "      <td>45.0</td>\n",
              "      <td>0.210419</td>\n",
              "      <td>0.157218</td>\n",
              "      <td>0.040695</td>\n",
              "      <td>NaN</td>\n",
              "      <td>NaN</td>\n",
              "      <td>0.317735</td>\n",
              "      <td>0.346676</td>\n",
              "      <td>0.117661</td>\n",
              "      <td>NaN</td>\n",
              "      <td>NaN</td>\n",
              "    </tr>\n",
              "    <tr>\n",
              "      <th>10</th>\n",
              "      <td></td>\n",
              "      <td>2021-07-11 12:47:35</td>\n",
              "      <td>2 min 38.820 sec</td>\n",
              "      <td>50.0</td>\n",
              "      <td>0.202712</td>\n",
              "      <td>0.147594</td>\n",
              "      <td>0.036739</td>\n",
              "      <td>NaN</td>\n",
              "      <td>NaN</td>\n",
              "      <td>0.316832</td>\n",
              "      <td>0.346036</td>\n",
              "      <td>0.117023</td>\n",
              "      <td>NaN</td>\n",
              "      <td>NaN</td>\n",
              "    </tr>\n",
              "  </tbody>\n",
              "</table>\n",
              "</div>"
            ],
            "text/plain": [
              "                timestamp  ... validation_auc  validation_pr_auc\n",
              "0     2021-07-11 12:44:56  ...            NaN                NaN\n",
              "1     2021-07-11 12:45:17  ...            NaN                NaN\n",
              "2     2021-07-11 12:45:32  ...            NaN                NaN\n",
              "3     2021-07-11 12:45:45  ...            NaN                NaN\n",
              "4     2021-07-11 12:45:59  ...            NaN                NaN\n",
              "5     2021-07-11 12:46:14  ...            NaN                NaN\n",
              "6     2021-07-11 12:46:30  ...            NaN                NaN\n",
              "7     2021-07-11 12:46:47  ...            NaN                NaN\n",
              "8     2021-07-11 12:47:03  ...            NaN                NaN\n",
              "9     2021-07-11 12:47:19  ...            NaN                NaN\n",
              "10    2021-07-11 12:47:35  ...            NaN                NaN\n",
              "\n",
              "[11 rows x 14 columns]"
            ]
          },
          "metadata": {
            "tags": []
          }
        },
        {
          "output_type": "stream",
          "text": [
            "\n",
            "Variable Importances: \n"
          ],
          "name": "stdout"
        },
        {
          "output_type": "display_data",
          "data": {
            "text/html": [
              "<div>\n",
              "<style scoped>\n",
              "    .dataframe tbody tr th:only-of-type {\n",
              "        vertical-align: middle;\n",
              "    }\n",
              "\n",
              "    .dataframe tbody tr th {\n",
              "        vertical-align: top;\n",
              "    }\n",
              "\n",
              "    .dataframe thead th {\n",
              "        text-align: right;\n",
              "    }\n",
              "</style>\n",
              "<table border=\"1\" class=\"dataframe\">\n",
              "  <thead>\n",
              "    <tr style=\"text-align: right;\">\n",
              "      <th></th>\n",
              "      <th>variable</th>\n",
              "      <th>relative_importance</th>\n",
              "      <th>scaled_importance</th>\n",
              "      <th>percentage</th>\n",
              "    </tr>\n",
              "  </thead>\n",
              "  <tbody>\n",
              "    <tr>\n",
              "      <th>0</th>\n",
              "      <td>mortgage</td>\n",
              "      <td>15961.378906</td>\n",
              "      <td>1.000000</td>\n",
              "      <td>0.123892</td>\n",
              "    </tr>\n",
              "    <tr>\n",
              "      <th>1</th>\n",
              "      <td>card</td>\n",
              "      <td>14265.668945</td>\n",
              "      <td>0.893762</td>\n",
              "      <td>0.110730</td>\n",
              "    </tr>\n",
              "    <tr>\n",
              "      <th>2</th>\n",
              "      <td>debt</td>\n",
              "      <td>8943.810547</td>\n",
              "      <td>0.560341</td>\n",
              "      <td>0.069422</td>\n",
              "    </tr>\n",
              "    <tr>\n",
              "      <th>3</th>\n",
              "      <td>bank</td>\n",
              "      <td>6807.683594</td>\n",
              "      <td>0.426510</td>\n",
              "      <td>0.052841</td>\n",
              "    </tr>\n",
              "    <tr>\n",
              "      <th>4</th>\n",
              "      <td>collection</td>\n",
              "      <td>6458.038574</td>\n",
              "      <td>0.404604</td>\n",
              "      <td>0.050127</td>\n",
              "    </tr>\n",
              "    <tr>\n",
              "      <th>5</th>\n",
              "      <td>loan</td>\n",
              "      <td>4927.425781</td>\n",
              "      <td>0.308709</td>\n",
              "      <td>0.038247</td>\n",
              "    </tr>\n",
              "    <tr>\n",
              "      <th>6</th>\n",
              "      <td>payment</td>\n",
              "      <td>3714.326172</td>\n",
              "      <td>0.232707</td>\n",
              "      <td>0.028831</td>\n",
              "    </tr>\n",
              "    <tr>\n",
              "      <th>7</th>\n",
              "      <td>account</td>\n",
              "      <td>2795.645752</td>\n",
              "      <td>0.175151</td>\n",
              "      <td>0.021700</td>\n",
              "    </tr>\n",
              "    <tr>\n",
              "      <th>8</th>\n",
              "      <td>student</td>\n",
              "      <td>2792.128662</td>\n",
              "      <td>0.174930</td>\n",
              "      <td>0.021673</td>\n",
              "    </tr>\n",
              "    <tr>\n",
              "      <th>9</th>\n",
              "      <td>credit</td>\n",
              "      <td>2226.695557</td>\n",
              "      <td>0.139505</td>\n",
              "      <td>0.017284</td>\n",
              "    </tr>\n",
              "    <tr>\n",
              "      <th>10</th>\n",
              "      <td>vehicle</td>\n",
              "      <td>2161.421143</td>\n",
              "      <td>0.135416</td>\n",
              "      <td>0.016777</td>\n",
              "    </tr>\n",
              "    <tr>\n",
              "      <th>11</th>\n",
              "      <td>navient</td>\n",
              "      <td>1607.258301</td>\n",
              "      <td>0.100697</td>\n",
              "      <td>0.012476</td>\n",
              "    </tr>\n",
              "    <tr>\n",
              "      <th>12</th>\n",
              "      <td>checking</td>\n",
              "      <td>1229.529297</td>\n",
              "      <td>0.077032</td>\n",
              "      <td>0.009544</td>\n",
              "    </tr>\n",
              "    <tr>\n",
              "      <th>13</th>\n",
              "      <td>escrow</td>\n",
              "      <td>1178.556030</td>\n",
              "      <td>0.073838</td>\n",
              "      <td>0.009148</td>\n",
              "    </tr>\n",
              "    <tr>\n",
              "      <th>14</th>\n",
              "      <td>deposit</td>\n",
              "      <td>1101.322266</td>\n",
              "      <td>0.068999</td>\n",
              "      <td>0.008548</td>\n",
              "    </tr>\n",
              "    <tr>\n",
              "      <th>15</th>\n",
              "      <td>report</td>\n",
              "      <td>1019.731567</td>\n",
              "      <td>0.063887</td>\n",
              "      <td>0.007915</td>\n",
              "    </tr>\n",
              "    <tr>\n",
              "      <th>16</th>\n",
              "      <td>student loan</td>\n",
              "      <td>1010.136841</td>\n",
              "      <td>0.063286</td>\n",
              "      <td>0.007841</td>\n",
              "    </tr>\n",
              "    <tr>\n",
              "      <th>17</th>\n",
              "      <td>late</td>\n",
              "      <td>971.505859</td>\n",
              "      <td>0.060866</td>\n",
              "      <td>0.007541</td>\n",
              "    </tr>\n",
              "    <tr>\n",
              "      <th>18</th>\n",
              "      <td>home</td>\n",
              "      <td>934.109985</td>\n",
              "      <td>0.058523</td>\n",
              "      <td>0.007251</td>\n",
              "    </tr>\n",
              "    <tr>\n",
              "      <th>19</th>\n",
              "      <td>modification</td>\n",
              "      <td>929.065430</td>\n",
              "      <td>0.058207</td>\n",
              "      <td>0.007211</td>\n",
              "    </tr>\n",
              "  </tbody>\n",
              "</table>\n",
              "</div>"
            ],
            "text/plain": [
              "        variable  relative_importance  scaled_importance  percentage\n",
              "0       mortgage         15961.378906           1.000000    0.123892\n",
              "1           card         14265.668945           0.893762    0.110730\n",
              "2           debt          8943.810547           0.560341    0.069422\n",
              "3           bank          6807.683594           0.426510    0.052841\n",
              "4     collection          6458.038574           0.404604    0.050127\n",
              "5           loan          4927.425781           0.308709    0.038247\n",
              "6        payment          3714.326172           0.232707    0.028831\n",
              "7        account          2795.645752           0.175151    0.021700\n",
              "8        student          2792.128662           0.174930    0.021673\n",
              "9         credit          2226.695557           0.139505    0.017284\n",
              "10       vehicle          2161.421143           0.135416    0.016777\n",
              "11       navient          1607.258301           0.100697    0.012476\n",
              "12      checking          1229.529297           0.077032    0.009544\n",
              "13        escrow          1178.556030           0.073838    0.009148\n",
              "14       deposit          1101.322266           0.068999    0.008548\n",
              "15        report          1019.731567           0.063887    0.007915\n",
              "16  student loan          1010.136841           0.063286    0.007841\n",
              "17          late           971.505859           0.060866    0.007541\n",
              "18          home           934.109985           0.058523    0.007251\n",
              "19  modification           929.065430           0.058207    0.007211"
            ]
          },
          "metadata": {
            "tags": []
          }
        },
        {
          "output_type": "stream",
          "text": [
            "\n",
            "See the whole table with table.as_data_frame()\n"
          ],
          "name": "stdout"
        },
        {
          "output_type": "execute_result",
          "data": {
            "text/plain": [
              ""
            ]
          },
          "metadata": {
            "tags": []
          },
          "execution_count": 90
        }
      ]
    },
    {
      "cell_type": "code",
      "metadata": {
        "colab": {
          "base_uri": "https://localhost:8080/"
        },
        "id": "JlD8Mulb8Geo",
        "outputId": "05238e65-5cb8-4ca2-bb46-2ad18d4c1308"
      },
      "source": [
        "## Getting the hyperparameter selected by the model\n",
        "\n",
        "out.convert_H2OXGBoostParams_2_XGBoostParams()"
      ],
      "execution_count": 91,
      "outputs": [
        {
          "output_type": "execute_result",
          "data": {
            "text/plain": [
              "({'alpha': 0.0,\n",
              "  'booster': 'gbtree',\n",
              "  'colsample_bylevel': 0.8,\n",
              "  'colsample_bytree': 0.8,\n",
              "  'eta': 0.3,\n",
              "  'gamma': 0.0,\n",
              "  'grow_policy': 'depthwise',\n",
              "  'lambda': 1.0,\n",
              "  'max_delta_step': 0.0,\n",
              "  'max_depth': 20,\n",
              "  'min_child_weight': 10.0,\n",
              "  'nround': 10000,\n",
              "  'nthread': 2,\n",
              "  'num_class': 6,\n",
              "  'objective': 'multi:softprob',\n",
              "  'seed': 43,\n",
              "  'silent': True,\n",
              "  'subsample': 0.6,\n",
              "  'tree_method': 'exact'},\n",
              " 10000)"
            ]
          },
          "metadata": {
            "tags": []
          },
          "execution_count": 91
        }
      ]
    },
    {
      "cell_type": "code",
      "metadata": {
        "id": "h_FKQEma9hzQ"
      },
      "source": [
        "xgb_model = XGBClassifier(n_estimators=100, learning_rate=0.01,max_depth=10, objective='multi:softprob',random_state=42, **{'updater': 'grow_gpu'})"
      ],
      "execution_count": 92,
      "outputs": []
    },
    {
      "cell_type": "code",
      "metadata": {
        "colab": {
          "base_uri": "https://localhost:8080/"
        },
        "id": "qbPfCvG6-lRE",
        "outputId": "73bbb6e4-6d7a-4011-9b6c-85d92dc5d02e"
      },
      "source": [
        "xgb_model.fit(X_train_tfidf,y_train)"
      ],
      "execution_count": 94,
      "outputs": [
        {
          "output_type": "stream",
          "text": [
            "[14:32:16] WARNING: /workspace/src/learner.cc:194: DANGER AHEAD: You have manually specified `updater` parameter. The `tree_method` parameter will be ignored. Incorrect sequence of updaters will produce undefined behavior. For common uses, we recommend using `tree_method` parameter instead.\n"
          ],
          "name": "stdout"
        },
        {
          "output_type": "execute_result",
          "data": {
            "text/plain": [
              "XGBClassifier(base_score=0.5, booster='gbtree', colsample_bylevel=1,\n",
              "              colsample_bynode=1, colsample_bytree=1, gamma=0,\n",
              "              learning_rate=0.01, max_delta_step=0, max_depth=10,\n",
              "              min_child_weight=1, missing=None, n_estimators=100, n_jobs=1,\n",
              "              nthread=None, objective='multi:softprob', random_state=42,\n",
              "              reg_alpha=0, reg_lambda=1, scale_pos_weight=1, seed=None,\n",
              "              silent=None, subsample=1, updater='grow_gpu', verbosity=1)"
            ]
          },
          "metadata": {
            "tags": []
          },
          "execution_count": 94
        }
      ]
    },
    {
      "cell_type": "code",
      "metadata": {
        "id": "vWT_l61P-1hj"
      },
      "source": [
        "prediction = xgb_model.predict(X_test_tfidf)"
      ],
      "execution_count": 95,
      "outputs": []
    },
    {
      "cell_type": "code",
      "metadata": {
        "id": "fC2kZmr0-2YU"
      },
      "source": [
        "from sklearn.metrics import confusion_matrix, classification_report"
      ],
      "execution_count": 96,
      "outputs": []
    },
    {
      "cell_type": "code",
      "metadata": {
        "colab": {
          "base_uri": "https://localhost:8080/"
        },
        "id": "5ZDewUMx_OVX",
        "outputId": "96d1eaa3-0228-434e-c097-567de1506110"
      },
      "source": [
        "cm = confusion_matrix(y_test, prediction)\n",
        "cm"
      ],
      "execution_count": 97,
      "outputs": [
        {
          "output_type": "execute_result",
          "data": {
            "text/plain": [
              "array([[5953,  249,  111,   79,   70,   69],\n",
              "       [ 441, 3303,   19,  175,    3,   17],\n",
              "       [ 153,   48, 2657,   36,   12,   34],\n",
              "       [ 170,  240,   30, 1648,    1,   12],\n",
              "       [ 130,   26,   34,    4,  657,   34],\n",
              "       [ 197,   84,   38,    8,   10,  484]])"
            ]
          },
          "metadata": {
            "tags": []
          },
          "execution_count": 97
        }
      ]
    },
    {
      "cell_type": "code",
      "metadata": {
        "id": "Sb8wZrLp_X1U"
      },
      "source": [
        "## Minority classes are not classified properly"
      ],
      "execution_count": 98,
      "outputs": []
    },
    {
      "cell_type": "code",
      "metadata": {
        "colab": {
          "base_uri": "https://localhost:8080/"
        },
        "id": "FreF8uhx_iff",
        "outputId": "137728d9-ea58-4f4f-d756-a752481ebdbf"
      },
      "source": [
        "print(classification_report(y_test, prediction))"
      ],
      "execution_count": 100,
      "outputs": [
        {
          "output_type": "stream",
          "text": [
            "              precision    recall  f1-score   support\n",
            "\n",
            "           0       0.85      0.91      0.88      6531\n",
            "           1       0.84      0.83      0.84      3958\n",
            "           2       0.92      0.90      0.91      2940\n",
            "           3       0.85      0.78      0.81      2101\n",
            "           4       0.87      0.74      0.80       885\n",
            "           5       0.74      0.59      0.66       821\n",
            "\n",
            "    accuracy                           0.85     17236\n",
            "   macro avg       0.84      0.79      0.82     17236\n",
            "weighted avg       0.85      0.85      0.85     17236\n",
            "\n"
          ],
          "name": "stdout"
        }
      ]
    },
    {
      "cell_type": "code",
      "metadata": {
        "id": "TTNpJgEP_rq9"
      },
      "source": [
        "## Adding weights to each row to increase the recall of miniority classes"
      ],
      "execution_count": 101,
      "outputs": []
    },
    {
      "cell_type": "code",
      "metadata": {
        "id": "vrvBiWzj_8Pg"
      },
      "source": [
        "from sklearn.utils import class_weight"
      ],
      "execution_count": 102,
      "outputs": []
    },
    {
      "cell_type": "code",
      "metadata": {
        "id": "fQzJuNatAHkC"
      },
      "source": [
        "cls_wt = list(class_weight.compute_class_weight('balanced', np.unique(y_train), y_train))"
      ],
      "execution_count": 103,
      "outputs": []
    },
    {
      "cell_type": "code",
      "metadata": {
        "colab": {
          "base_uri": "https://localhost:8080/"
        },
        "id": "_1thqOmWAT1_",
        "outputId": "18c76332-10cb-4346-f0f8-1be96ea1d3b9"
      },
      "source": [
        "cls_wt"
      ],
      "execution_count": 104,
      "outputs": [
        {
          "output_type": "execute_result",
          "data": {
            "text/plain": [
              "[0.43978960260700306,\n",
              " 0.725807615953799,\n",
              " 0.9772318608154736,\n",
              " 1.3673670610635116,\n",
              " 3.2459241323648103,\n",
              " 3.5001740644038293]"
            ]
          },
          "metadata": {
            "tags": []
          },
          "execution_count": 104
        }
      ]
    },
    {
      "cell_type": "code",
      "metadata": {
        "id": "aRD0X2ukAVK1"
      },
      "source": [
        "## More weights are given to minority classes based on the distribution of classes"
      ],
      "execution_count": 105,
      "outputs": []
    },
    {
      "cell_type": "code",
      "metadata": {
        "id": "FTSiKT4SAb5y"
      },
      "source": [
        "wt = np.ones(X_train_tfidf.shape[0], dtype='float')"
      ],
      "execution_count": 106,
      "outputs": []
    },
    {
      "cell_type": "code",
      "metadata": {
        "colab": {
          "base_uri": "https://localhost:8080/"
        },
        "id": "7AP47FfyAnJT",
        "outputId": "eb3927d7-0437-46f8-ef1f-3dde02cb718e"
      },
      "source": [
        "wt"
      ],
      "execution_count": 107,
      "outputs": [
        {
          "output_type": "execute_result",
          "data": {
            "text/plain": [
              "array([1., 1., 1., ..., 1., 1., 1.])"
            ]
          },
          "metadata": {
            "tags": []
          },
          "execution_count": 107
        }
      ]
    },
    {
      "cell_type": "code",
      "metadata": {
        "id": "FMPYqOBlAoe0"
      },
      "source": [
        "for i, val in enumerate(y_train):\n",
        "  wt[i] = cls_wt[val]"
      ],
      "execution_count": 108,
      "outputs": []
    },
    {
      "cell_type": "code",
      "metadata": {
        "colab": {
          "base_uri": "https://localhost:8080/"
        },
        "id": "VqwZU-34A6T7",
        "outputId": "fa86bc7d-8883-4d56-b087-15b60b7935af"
      },
      "source": [
        "wt"
      ],
      "execution_count": 109,
      "outputs": [
        {
          "output_type": "execute_result",
          "data": {
            "text/plain": [
              "array([0.72580762, 0.72580762, 0.97723186, ..., 0.4397896 , 1.36736706,\n",
              "       0.4397896 ])"
            ]
          },
          "metadata": {
            "tags": []
          },
          "execution_count": 109
        }
      ]
    },
    {
      "cell_type": "code",
      "metadata": {
        "id": "iHk04FdDA7Aw"
      },
      "source": [
        "new_xgb_model = XGBClassifier(n_estimators=100, learning_rate=0.01,max_depth=10, objective='multi:softprob',random_state=42)"
      ],
      "execution_count": 110,
      "outputs": []
    },
    {
      "cell_type": "code",
      "metadata": {
        "colab": {
          "base_uri": "https://localhost:8080/"
        },
        "id": "MHkSm9lvBGjc",
        "outputId": "d583b3c8-371b-435f-90e4-942d2aacf48c"
      },
      "source": [
        "new_xgb_model.fit(X_train_tfidf, y_train, sample_weight= wt)"
      ],
      "execution_count": 111,
      "outputs": [
        {
          "output_type": "execute_result",
          "data": {
            "text/plain": [
              "XGBClassifier(base_score=0.5, booster='gbtree', colsample_bylevel=1,\n",
              "              colsample_bynode=1, colsample_bytree=1, gamma=0,\n",
              "              learning_rate=0.01, max_delta_step=0, max_depth=10,\n",
              "              min_child_weight=1, missing=None, n_estimators=100, n_jobs=1,\n",
              "              nthread=None, objective='multi:softprob', random_state=42,\n",
              "              reg_alpha=0, reg_lambda=1, scale_pos_weight=1, seed=None,\n",
              "              silent=None, subsample=1, verbosity=1)"
            ]
          },
          "metadata": {
            "tags": []
          },
          "execution_count": 111
        }
      ]
    },
    {
      "cell_type": "code",
      "metadata": {
        "id": "TuXVaKyvBQKk"
      },
      "source": [
        "new_pred = new_xgb_model.predict(X_test_tfidf)"
      ],
      "execution_count": 112,
      "outputs": []
    },
    {
      "cell_type": "code",
      "metadata": {
        "colab": {
          "base_uri": "https://localhost:8080/"
        },
        "id": "mTGhR5C7BVhP",
        "outputId": "fdf27037-6d7c-426a-b884-fa061d15f0b5"
      },
      "source": [
        "print(confusion_matrix(y_test, new_pred))"
      ],
      "execution_count": 113,
      "outputs": [
        {
          "output_type": "stream",
          "text": [
            "[[5605  283  138  113  136  256]\n",
            " [ 291 3157   24  258   10  218]\n",
            " [  77   20 2605   42   64  132]\n",
            " [ 106  171   30 1725   11   58]\n",
            " [  48    4    9    3  740   81]\n",
            " [  91   23   13   12   36  646]]\n"
          ],
          "name": "stdout"
        }
      ]
    },
    {
      "cell_type": "code",
      "metadata": {
        "colab": {
          "base_uri": "https://localhost:8080/"
        },
        "id": "iC1_75yiBgLZ",
        "outputId": "b5087b53-ea62-4ba2-c159-760298148bfe"
      },
      "source": [
        "print(classification_report(y_test, new_pred))"
      ],
      "execution_count": 114,
      "outputs": [
        {
          "output_type": "stream",
          "text": [
            "              precision    recall  f1-score   support\n",
            "\n",
            "           0       0.90      0.86      0.88      6531\n",
            "           1       0.86      0.80      0.83      3958\n",
            "           2       0.92      0.89      0.90      2940\n",
            "           3       0.80      0.82      0.81      2101\n",
            "           4       0.74      0.84      0.79       885\n",
            "           5       0.46      0.79      0.58       821\n",
            "\n",
            "    accuracy                           0.84     17236\n",
            "   macro avg       0.78      0.83      0.80     17236\n",
            "weighted avg       0.86      0.84      0.84     17236\n",
            "\n"
          ],
          "name": "stdout"
        }
      ]
    },
    {
      "cell_type": "code",
      "metadata": {
        "id": "v69_Pu9RBkVf"
      },
      "source": [
        "## The minority classes are classified better compared to the last model"
      ],
      "execution_count": 116,
      "outputs": []
    },
    {
      "cell_type": "code",
      "metadata": {
        "id": "W7hKt4esC77P"
      },
      "source": [
        "from sklearn.metrics import accuracy_score"
      ],
      "execution_count": 117,
      "outputs": []
    },
    {
      "cell_type": "code",
      "metadata": {
        "colab": {
          "base_uri": "https://localhost:8080/"
        },
        "id": "anfBDQ2_DK9_",
        "outputId": "16c25038-8222-4dfc-da5f-ae43d7068c96"
      },
      "source": [
        "print('Accuracy of the model is {} %'.format(accuracy_score(y_test, new_pred)*100))"
      ],
      "execution_count": 120,
      "outputs": [
        {
          "output_type": "stream",
          "text": [
            "Accuracy of the model is 83.99860756556046 %\n"
          ],
          "name": "stdout"
        }
      ]
    },
    {
      "cell_type": "code",
      "metadata": {
        "id": "8bAqMbtMDN89"
      },
      "source": [
        "## Word2vec "
      ],
      "execution_count": 122,
      "outputs": []
    },
    {
      "cell_type": "code",
      "metadata": {
        "id": "b0ggbwK0DtJO"
      },
      "source": [
        ""
      ],
      "execution_count": null,
      "outputs": []
    }
  ]
}